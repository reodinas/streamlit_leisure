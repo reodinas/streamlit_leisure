{
 "cells": [
  {
   "cell_type": "code",
   "execution_count": 3,
   "id": "855c6bc4",
   "metadata": {},
   "outputs": [],
   "source": [
    "import pandas as pd\n",
    "import numpy as np"
   ]
  },
  {
   "cell_type": "code",
   "execution_count": 4,
   "id": "6ed83e0a",
   "metadata": {},
   "outputs": [],
   "source": [
    "df_origin = pd.read_csv('data/df_origin.csv', index_col=0)\n",
    "\n",
    "df = df_origin.copy()\n",
    "# 컬럼명 변경\n",
    "df = df.rename(columns={'EXAMIN_BEGIN_DE':'date', \n",
    "                    'SEXDSTN_FLAG_CD': 'gender',\n",
    "                    'AGRDE_FLAG_NM': 'age',\n",
    "                    'ANSWRR_OC_AREA_NM': 'area',\n",
    "                    'HSHLD_INCOME_DGREE_NM': 'income',\n",
    "                    'WORKDAY_DAY_AVRG_LSR_TIME_VALUE': 'lsr_work',\n",
    "                    'WKEND_DAY_AVRG_LSR_TIME_VALUE': 'lsr_weekend',\n",
    "                    'ONE_WEEK_TOT_LSR_TIME_VALUE': 'lsr_tot',\n",
    "                    'LSR_TIME_REST_RCRT_USE_RATE': 'rest',\n",
    "                    'LSR_TIME_HOBBY_USE_RATE': 'hobby',\n",
    "                    'LSR_TIME_SELF_IMPT_USE_RATE': 'self',\n",
    "                    'LSR_TIME_TWDPSN_RLTN_FLWSP_USE_RATE': 'relation',\n",
    "                    'LSR_TIME_ETC_USE_RATE': 'etc'\n",
    "                    })\n",
    "# 조사날짜 컬럼 타입변경\n",
    "df['date'] = pd.to_datetime(df['date'], format='%Y%m%d').dt.strftime('%Y-%m-%d')"
   ]
  },
  {
   "cell_type": "code",
   "execution_count": 5,
   "id": "75ca8d89",
   "metadata": {},
   "outputs": [],
   "source": [
    "df = df[['income', 'gender', 'age', 'lsr_work', 'lsr_weekend', 'lsr_tot', 'rest', 'hobby', 'self', 'relation', 'etc']]"
   ]
  },
  {
   "cell_type": "code",
   "execution_count": 6,
   "id": "388f7fa6",
   "metadata": {},
   "outputs": [
    {
     "data": {
      "text/html": [
       "<div>\n",
       "<style scoped>\n",
       "    .dataframe tbody tr th:only-of-type {\n",
       "        vertical-align: middle;\n",
       "    }\n",
       "\n",
       "    .dataframe tbody tr th {\n",
       "        vertical-align: top;\n",
       "    }\n",
       "\n",
       "    .dataframe thead th {\n",
       "        text-align: right;\n",
       "    }\n",
       "</style>\n",
       "<table border=\"1\" class=\"dataframe\">\n",
       "  <thead>\n",
       "    <tr style=\"text-align: right;\">\n",
       "      <th></th>\n",
       "      <th>income</th>\n",
       "      <th>gender</th>\n",
       "      <th>age</th>\n",
       "      <th>lsr_work</th>\n",
       "      <th>lsr_weekend</th>\n",
       "      <th>lsr_tot</th>\n",
       "      <th>rest</th>\n",
       "      <th>hobby</th>\n",
       "      <th>self</th>\n",
       "      <th>relation</th>\n",
       "      <th>etc</th>\n",
       "    </tr>\n",
       "  </thead>\n",
       "  <tbody>\n",
       "    <tr>\n",
       "      <th>0</th>\n",
       "      <td>300이상500만원 미만</td>\n",
       "      <td>M</td>\n",
       "      <td>60대</td>\n",
       "      <td>8</td>\n",
       "      <td>12</td>\n",
       "      <td>64</td>\n",
       "      <td>50</td>\n",
       "      <td>30</td>\n",
       "      <td>0</td>\n",
       "      <td>20</td>\n",
       "      <td>0</td>\n",
       "    </tr>\n",
       "    <tr>\n",
       "      <th>1</th>\n",
       "      <td>300만원 미만</td>\n",
       "      <td>M</td>\n",
       "      <td>20대</td>\n",
       "      <td>2</td>\n",
       "      <td>4</td>\n",
       "      <td>18</td>\n",
       "      <td>50</td>\n",
       "      <td>10</td>\n",
       "      <td>10</td>\n",
       "      <td>30</td>\n",
       "      <td>0</td>\n",
       "    </tr>\n",
       "    <tr>\n",
       "      <th>2</th>\n",
       "      <td>700만원 이상</td>\n",
       "      <td>F</td>\n",
       "      <td>60대</td>\n",
       "      <td>8</td>\n",
       "      <td>6</td>\n",
       "      <td>52</td>\n",
       "      <td>30</td>\n",
       "      <td>20</td>\n",
       "      <td>40</td>\n",
       "      <td>10</td>\n",
       "      <td>0</td>\n",
       "    </tr>\n",
       "    <tr>\n",
       "      <th>3</th>\n",
       "      <td>500이상700만원 미만</td>\n",
       "      <td>F</td>\n",
       "      <td>50대</td>\n",
       "      <td>4</td>\n",
       "      <td>6</td>\n",
       "      <td>32</td>\n",
       "      <td>15</td>\n",
       "      <td>15</td>\n",
       "      <td>20</td>\n",
       "      <td>50</td>\n",
       "      <td>0</td>\n",
       "    </tr>\n",
       "    <tr>\n",
       "      <th>4</th>\n",
       "      <td>300만원 미만</td>\n",
       "      <td>F</td>\n",
       "      <td>50대</td>\n",
       "      <td>5</td>\n",
       "      <td>5</td>\n",
       "      <td>35</td>\n",
       "      <td>20</td>\n",
       "      <td>20</td>\n",
       "      <td>20</td>\n",
       "      <td>20</td>\n",
       "      <td>20</td>\n",
       "    </tr>\n",
       "    <tr>\n",
       "      <th>...</th>\n",
       "      <td>...</td>\n",
       "      <td>...</td>\n",
       "      <td>...</td>\n",
       "      <td>...</td>\n",
       "      <td>...</td>\n",
       "      <td>...</td>\n",
       "      <td>...</td>\n",
       "      <td>...</td>\n",
       "      <td>...</td>\n",
       "      <td>...</td>\n",
       "      <td>...</td>\n",
       "    </tr>\n",
       "    <tr>\n",
       "      <th>12584</th>\n",
       "      <td>300이상500만원 미만</td>\n",
       "      <td>F</td>\n",
       "      <td>50대</td>\n",
       "      <td>0</td>\n",
       "      <td>10</td>\n",
       "      <td>20</td>\n",
       "      <td>10</td>\n",
       "      <td>20</td>\n",
       "      <td>30</td>\n",
       "      <td>20</td>\n",
       "      <td>20</td>\n",
       "    </tr>\n",
       "    <tr>\n",
       "      <th>12585</th>\n",
       "      <td>무응답</td>\n",
       "      <td>M</td>\n",
       "      <td>20대</td>\n",
       "      <td>5</td>\n",
       "      <td>9</td>\n",
       "      <td>43</td>\n",
       "      <td>50</td>\n",
       "      <td>0</td>\n",
       "      <td>0</td>\n",
       "      <td>50</td>\n",
       "      <td>0</td>\n",
       "    </tr>\n",
       "    <tr>\n",
       "      <th>12586</th>\n",
       "      <td>500이상700만원 미만</td>\n",
       "      <td>M</td>\n",
       "      <td>50대</td>\n",
       "      <td>5</td>\n",
       "      <td>12</td>\n",
       "      <td>49</td>\n",
       "      <td>40</td>\n",
       "      <td>20</td>\n",
       "      <td>15</td>\n",
       "      <td>25</td>\n",
       "      <td>0</td>\n",
       "    </tr>\n",
       "    <tr>\n",
       "      <th>12587</th>\n",
       "      <td>500이상700만원 미만</td>\n",
       "      <td>F</td>\n",
       "      <td>50대</td>\n",
       "      <td>2</td>\n",
       "      <td>0</td>\n",
       "      <td>10</td>\n",
       "      <td>30</td>\n",
       "      <td>40</td>\n",
       "      <td>10</td>\n",
       "      <td>20</td>\n",
       "      <td>0</td>\n",
       "    </tr>\n",
       "    <tr>\n",
       "      <th>12588</th>\n",
       "      <td>300만원 미만</td>\n",
       "      <td>F</td>\n",
       "      <td>60대</td>\n",
       "      <td>2</td>\n",
       "      <td>2</td>\n",
       "      <td>14</td>\n",
       "      <td>0</td>\n",
       "      <td>50</td>\n",
       "      <td>0</td>\n",
       "      <td>50</td>\n",
       "      <td>0</td>\n",
       "    </tr>\n",
       "  </tbody>\n",
       "</table>\n",
       "<p>12589 rows × 11 columns</p>\n",
       "</div>"
      ],
      "text/plain": [
       "              income gender  age  lsr_work  lsr_weekend  lsr_tot  rest  hobby  \\\n",
       "0      300이상500만원 미만      M  60대         8           12       64    50     30   \n",
       "1           300만원 미만      M  20대         2            4       18    50     10   \n",
       "2           700만원 이상      F  60대         8            6       52    30     20   \n",
       "3      500이상700만원 미만      F  50대         4            6       32    15     15   \n",
       "4           300만원 미만      F  50대         5            5       35    20     20   \n",
       "...              ...    ...  ...       ...          ...      ...   ...    ...   \n",
       "12584  300이상500만원 미만      F  50대         0           10       20    10     20   \n",
       "12585            무응답      M  20대         5            9       43    50      0   \n",
       "12586  500이상700만원 미만      M  50대         5           12       49    40     20   \n",
       "12587  500이상700만원 미만      F  50대         2            0       10    30     40   \n",
       "12588       300만원 미만      F  60대         2            2       14     0     50   \n",
       "\n",
       "       self  relation  etc  \n",
       "0         0        20    0  \n",
       "1        10        30    0  \n",
       "2        40        10    0  \n",
       "3        20        50    0  \n",
       "4        20        20   20  \n",
       "...     ...       ...  ...  \n",
       "12584    30        20   20  \n",
       "12585     0        50    0  \n",
       "12586    15        25    0  \n",
       "12587    10        20    0  \n",
       "12588     0        50    0  \n",
       "\n",
       "[12589 rows x 11 columns]"
      ]
     },
     "execution_count": 6,
     "metadata": {},
     "output_type": "execute_result"
    }
   ],
   "source": [
    "df"
   ]
  },
  {
   "cell_type": "code",
   "execution_count": 7,
   "id": "2c419664",
   "metadata": {},
   "outputs": [],
   "source": [
    "df2 = df[df['income'] == '무응답']"
   ]
  },
  {
   "cell_type": "code",
   "execution_count": 8,
   "id": "e10e7302",
   "metadata": {},
   "outputs": [
    {
     "data": {
      "text/html": [
       "<div>\n",
       "<style scoped>\n",
       "    .dataframe tbody tr th:only-of-type {\n",
       "        vertical-align: middle;\n",
       "    }\n",
       "\n",
       "    .dataframe tbody tr th {\n",
       "        vertical-align: top;\n",
       "    }\n",
       "\n",
       "    .dataframe thead th {\n",
       "        text-align: right;\n",
       "    }\n",
       "</style>\n",
       "<table border=\"1\" class=\"dataframe\">\n",
       "  <thead>\n",
       "    <tr style=\"text-align: right;\">\n",
       "      <th></th>\n",
       "      <th>income</th>\n",
       "      <th>gender</th>\n",
       "      <th>age</th>\n",
       "      <th>lsr_work</th>\n",
       "      <th>lsr_weekend</th>\n",
       "      <th>lsr_tot</th>\n",
       "      <th>rest</th>\n",
       "      <th>hobby</th>\n",
       "      <th>self</th>\n",
       "      <th>relation</th>\n",
       "      <th>etc</th>\n",
       "    </tr>\n",
       "  </thead>\n",
       "  <tbody>\n",
       "    <tr>\n",
       "      <th>44</th>\n",
       "      <td>무응답</td>\n",
       "      <td>F</td>\n",
       "      <td>30대</td>\n",
       "      <td>3</td>\n",
       "      <td>8</td>\n",
       "      <td>31</td>\n",
       "      <td>10</td>\n",
       "      <td>10</td>\n",
       "      <td>50</td>\n",
       "      <td>30</td>\n",
       "      <td>0</td>\n",
       "    </tr>\n",
       "    <tr>\n",
       "      <th>54</th>\n",
       "      <td>무응답</td>\n",
       "      <td>F</td>\n",
       "      <td>20대</td>\n",
       "      <td>3</td>\n",
       "      <td>3</td>\n",
       "      <td>21</td>\n",
       "      <td>10</td>\n",
       "      <td>70</td>\n",
       "      <td>10</td>\n",
       "      <td>10</td>\n",
       "      <td>0</td>\n",
       "    </tr>\n",
       "    <tr>\n",
       "      <th>57</th>\n",
       "      <td>무응답</td>\n",
       "      <td>F</td>\n",
       "      <td>20대</td>\n",
       "      <td>1</td>\n",
       "      <td>4</td>\n",
       "      <td>13</td>\n",
       "      <td>5</td>\n",
       "      <td>40</td>\n",
       "      <td>5</td>\n",
       "      <td>50</td>\n",
       "      <td>0</td>\n",
       "    </tr>\n",
       "    <tr>\n",
       "      <th>58</th>\n",
       "      <td>무응답</td>\n",
       "      <td>F</td>\n",
       "      <td>40대</td>\n",
       "      <td>2</td>\n",
       "      <td>5</td>\n",
       "      <td>20</td>\n",
       "      <td>50</td>\n",
       "      <td>20</td>\n",
       "      <td>5</td>\n",
       "      <td>25</td>\n",
       "      <td>0</td>\n",
       "    </tr>\n",
       "    <tr>\n",
       "      <th>64</th>\n",
       "      <td>무응답</td>\n",
       "      <td>M</td>\n",
       "      <td>20대</td>\n",
       "      <td>10</td>\n",
       "      <td>10</td>\n",
       "      <td>70</td>\n",
       "      <td>31</td>\n",
       "      <td>19</td>\n",
       "      <td>13</td>\n",
       "      <td>13</td>\n",
       "      <td>24</td>\n",
       "    </tr>\n",
       "    <tr>\n",
       "      <th>...</th>\n",
       "      <td>...</td>\n",
       "      <td>...</td>\n",
       "      <td>...</td>\n",
       "      <td>...</td>\n",
       "      <td>...</td>\n",
       "      <td>...</td>\n",
       "      <td>...</td>\n",
       "      <td>...</td>\n",
       "      <td>...</td>\n",
       "      <td>...</td>\n",
       "      <td>...</td>\n",
       "    </tr>\n",
       "    <tr>\n",
       "      <th>12465</th>\n",
       "      <td>무응답</td>\n",
       "      <td>M</td>\n",
       "      <td>20대</td>\n",
       "      <td>6</td>\n",
       "      <td>9</td>\n",
       "      <td>48</td>\n",
       "      <td>69</td>\n",
       "      <td>30</td>\n",
       "      <td>0</td>\n",
       "      <td>1</td>\n",
       "      <td>0</td>\n",
       "    </tr>\n",
       "    <tr>\n",
       "      <th>12494</th>\n",
       "      <td>무응답</td>\n",
       "      <td>F</td>\n",
       "      <td>60대</td>\n",
       "      <td>3</td>\n",
       "      <td>5</td>\n",
       "      <td>25</td>\n",
       "      <td>20</td>\n",
       "      <td>30</td>\n",
       "      <td>20</td>\n",
       "      <td>10</td>\n",
       "      <td>20</td>\n",
       "    </tr>\n",
       "    <tr>\n",
       "      <th>12528</th>\n",
       "      <td>무응답</td>\n",
       "      <td>M</td>\n",
       "      <td>20대</td>\n",
       "      <td>2</td>\n",
       "      <td>10</td>\n",
       "      <td>30</td>\n",
       "      <td>20</td>\n",
       "      <td>10</td>\n",
       "      <td>0</td>\n",
       "      <td>70</td>\n",
       "      <td>0</td>\n",
       "    </tr>\n",
       "    <tr>\n",
       "      <th>12530</th>\n",
       "      <td>무응답</td>\n",
       "      <td>F</td>\n",
       "      <td>20대</td>\n",
       "      <td>3</td>\n",
       "      <td>6</td>\n",
       "      <td>27</td>\n",
       "      <td>30</td>\n",
       "      <td>10</td>\n",
       "      <td>20</td>\n",
       "      <td>40</td>\n",
       "      <td>0</td>\n",
       "    </tr>\n",
       "    <tr>\n",
       "      <th>12585</th>\n",
       "      <td>무응답</td>\n",
       "      <td>M</td>\n",
       "      <td>20대</td>\n",
       "      <td>5</td>\n",
       "      <td>9</td>\n",
       "      <td>43</td>\n",
       "      <td>50</td>\n",
       "      <td>0</td>\n",
       "      <td>0</td>\n",
       "      <td>50</td>\n",
       "      <td>0</td>\n",
       "    </tr>\n",
       "  </tbody>\n",
       "</table>\n",
       "<p>711 rows × 11 columns</p>\n",
       "</div>"
      ],
      "text/plain": [
       "      income gender  age  lsr_work  lsr_weekend  lsr_tot  rest  hobby  self  \\\n",
       "44       무응답      F  30대         3            8       31    10     10    50   \n",
       "54       무응답      F  20대         3            3       21    10     70    10   \n",
       "57       무응답      F  20대         1            4       13     5     40     5   \n",
       "58       무응답      F  40대         2            5       20    50     20     5   \n",
       "64       무응답      M  20대        10           10       70    31     19    13   \n",
       "...      ...    ...  ...       ...          ...      ...   ...    ...   ...   \n",
       "12465    무응답      M  20대         6            9       48    69     30     0   \n",
       "12494    무응답      F  60대         3            5       25    20     30    20   \n",
       "12528    무응답      M  20대         2           10       30    20     10     0   \n",
       "12530    무응답      F  20대         3            6       27    30     10    20   \n",
       "12585    무응답      M  20대         5            9       43    50      0     0   \n",
       "\n",
       "       relation  etc  \n",
       "44           30    0  \n",
       "54           10    0  \n",
       "57           50    0  \n",
       "58           25    0  \n",
       "64           13   24  \n",
       "...         ...  ...  \n",
       "12465         1    0  \n",
       "12494        10   20  \n",
       "12528        70    0  \n",
       "12530        40    0  \n",
       "12585        50    0  \n",
       "\n",
       "[711 rows x 11 columns]"
      ]
     },
     "execution_count": 8,
     "metadata": {},
     "output_type": "execute_result"
    }
   ],
   "source": [
    "df2"
   ]
  },
  {
   "cell_type": "code",
   "execution_count": 9,
   "id": "099493b4",
   "metadata": {},
   "outputs": [],
   "source": [
    "df = df[df['income'] != '무응답']"
   ]
  },
  {
   "cell_type": "code",
   "execution_count": 10,
   "id": "831abe0b",
   "metadata": {},
   "outputs": [
    {
     "data": {
      "text/html": [
       "<div>\n",
       "<style scoped>\n",
       "    .dataframe tbody tr th:only-of-type {\n",
       "        vertical-align: middle;\n",
       "    }\n",
       "\n",
       "    .dataframe tbody tr th {\n",
       "        vertical-align: top;\n",
       "    }\n",
       "\n",
       "    .dataframe thead th {\n",
       "        text-align: right;\n",
       "    }\n",
       "</style>\n",
       "<table border=\"1\" class=\"dataframe\">\n",
       "  <thead>\n",
       "    <tr style=\"text-align: right;\">\n",
       "      <th></th>\n",
       "      <th>income</th>\n",
       "      <th>gender</th>\n",
       "      <th>age</th>\n",
       "      <th>lsr_work</th>\n",
       "      <th>lsr_weekend</th>\n",
       "      <th>lsr_tot</th>\n",
       "      <th>rest</th>\n",
       "      <th>hobby</th>\n",
       "      <th>self</th>\n",
       "      <th>relation</th>\n",
       "      <th>etc</th>\n",
       "    </tr>\n",
       "  </thead>\n",
       "  <tbody>\n",
       "    <tr>\n",
       "      <th>0</th>\n",
       "      <td>300이상500만원 미만</td>\n",
       "      <td>M</td>\n",
       "      <td>60대</td>\n",
       "      <td>8</td>\n",
       "      <td>12</td>\n",
       "      <td>64</td>\n",
       "      <td>50</td>\n",
       "      <td>30</td>\n",
       "      <td>0</td>\n",
       "      <td>20</td>\n",
       "      <td>0</td>\n",
       "    </tr>\n",
       "    <tr>\n",
       "      <th>1</th>\n",
       "      <td>300만원 미만</td>\n",
       "      <td>M</td>\n",
       "      <td>20대</td>\n",
       "      <td>2</td>\n",
       "      <td>4</td>\n",
       "      <td>18</td>\n",
       "      <td>50</td>\n",
       "      <td>10</td>\n",
       "      <td>10</td>\n",
       "      <td>30</td>\n",
       "      <td>0</td>\n",
       "    </tr>\n",
       "    <tr>\n",
       "      <th>2</th>\n",
       "      <td>700만원 이상</td>\n",
       "      <td>F</td>\n",
       "      <td>60대</td>\n",
       "      <td>8</td>\n",
       "      <td>6</td>\n",
       "      <td>52</td>\n",
       "      <td>30</td>\n",
       "      <td>20</td>\n",
       "      <td>40</td>\n",
       "      <td>10</td>\n",
       "      <td>0</td>\n",
       "    </tr>\n",
       "    <tr>\n",
       "      <th>3</th>\n",
       "      <td>500이상700만원 미만</td>\n",
       "      <td>F</td>\n",
       "      <td>50대</td>\n",
       "      <td>4</td>\n",
       "      <td>6</td>\n",
       "      <td>32</td>\n",
       "      <td>15</td>\n",
       "      <td>15</td>\n",
       "      <td>20</td>\n",
       "      <td>50</td>\n",
       "      <td>0</td>\n",
       "    </tr>\n",
       "    <tr>\n",
       "      <th>4</th>\n",
       "      <td>300만원 미만</td>\n",
       "      <td>F</td>\n",
       "      <td>50대</td>\n",
       "      <td>5</td>\n",
       "      <td>5</td>\n",
       "      <td>35</td>\n",
       "      <td>20</td>\n",
       "      <td>20</td>\n",
       "      <td>20</td>\n",
       "      <td>20</td>\n",
       "      <td>20</td>\n",
       "    </tr>\n",
       "    <tr>\n",
       "      <th>...</th>\n",
       "      <td>...</td>\n",
       "      <td>...</td>\n",
       "      <td>...</td>\n",
       "      <td>...</td>\n",
       "      <td>...</td>\n",
       "      <td>...</td>\n",
       "      <td>...</td>\n",
       "      <td>...</td>\n",
       "      <td>...</td>\n",
       "      <td>...</td>\n",
       "      <td>...</td>\n",
       "    </tr>\n",
       "    <tr>\n",
       "      <th>12583</th>\n",
       "      <td>300만원 미만</td>\n",
       "      <td>M</td>\n",
       "      <td>40대</td>\n",
       "      <td>2</td>\n",
       "      <td>3</td>\n",
       "      <td>16</td>\n",
       "      <td>40</td>\n",
       "      <td>30</td>\n",
       "      <td>30</td>\n",
       "      <td>0</td>\n",
       "      <td>0</td>\n",
       "    </tr>\n",
       "    <tr>\n",
       "      <th>12584</th>\n",
       "      <td>300이상500만원 미만</td>\n",
       "      <td>F</td>\n",
       "      <td>50대</td>\n",
       "      <td>0</td>\n",
       "      <td>10</td>\n",
       "      <td>20</td>\n",
       "      <td>10</td>\n",
       "      <td>20</td>\n",
       "      <td>30</td>\n",
       "      <td>20</td>\n",
       "      <td>20</td>\n",
       "    </tr>\n",
       "    <tr>\n",
       "      <th>12586</th>\n",
       "      <td>500이상700만원 미만</td>\n",
       "      <td>M</td>\n",
       "      <td>50대</td>\n",
       "      <td>5</td>\n",
       "      <td>12</td>\n",
       "      <td>49</td>\n",
       "      <td>40</td>\n",
       "      <td>20</td>\n",
       "      <td>15</td>\n",
       "      <td>25</td>\n",
       "      <td>0</td>\n",
       "    </tr>\n",
       "    <tr>\n",
       "      <th>12587</th>\n",
       "      <td>500이상700만원 미만</td>\n",
       "      <td>F</td>\n",
       "      <td>50대</td>\n",
       "      <td>2</td>\n",
       "      <td>0</td>\n",
       "      <td>10</td>\n",
       "      <td>30</td>\n",
       "      <td>40</td>\n",
       "      <td>10</td>\n",
       "      <td>20</td>\n",
       "      <td>0</td>\n",
       "    </tr>\n",
       "    <tr>\n",
       "      <th>12588</th>\n",
       "      <td>300만원 미만</td>\n",
       "      <td>F</td>\n",
       "      <td>60대</td>\n",
       "      <td>2</td>\n",
       "      <td>2</td>\n",
       "      <td>14</td>\n",
       "      <td>0</td>\n",
       "      <td>50</td>\n",
       "      <td>0</td>\n",
       "      <td>50</td>\n",
       "      <td>0</td>\n",
       "    </tr>\n",
       "  </tbody>\n",
       "</table>\n",
       "<p>11878 rows × 11 columns</p>\n",
       "</div>"
      ],
      "text/plain": [
       "              income gender  age  lsr_work  lsr_weekend  lsr_tot  rest  hobby  \\\n",
       "0      300이상500만원 미만      M  60대         8           12       64    50     30   \n",
       "1           300만원 미만      M  20대         2            4       18    50     10   \n",
       "2           700만원 이상      F  60대         8            6       52    30     20   \n",
       "3      500이상700만원 미만      F  50대         4            6       32    15     15   \n",
       "4           300만원 미만      F  50대         5            5       35    20     20   \n",
       "...              ...    ...  ...       ...          ...      ...   ...    ...   \n",
       "12583       300만원 미만      M  40대         2            3       16    40     30   \n",
       "12584  300이상500만원 미만      F  50대         0           10       20    10     20   \n",
       "12586  500이상700만원 미만      M  50대         5           12       49    40     20   \n",
       "12587  500이상700만원 미만      F  50대         2            0       10    30     40   \n",
       "12588       300만원 미만      F  60대         2            2       14     0     50   \n",
       "\n",
       "       self  relation  etc  \n",
       "0         0        20    0  \n",
       "1        10        30    0  \n",
       "2        40        10    0  \n",
       "3        20        50    0  \n",
       "4        20        20   20  \n",
       "...     ...       ...  ...  \n",
       "12583    30         0    0  \n",
       "12584    30        20   20  \n",
       "12586    15        25    0  \n",
       "12587    10        20    0  \n",
       "12588     0        50    0  \n",
       "\n",
       "[11878 rows x 11 columns]"
      ]
     },
     "execution_count": 10,
     "metadata": {},
     "output_type": "execute_result"
    }
   ],
   "source": [
    "df"
   ]
  },
  {
   "cell_type": "code",
   "execution_count": 11,
   "id": "72c739de",
   "metadata": {},
   "outputs": [
    {
     "data": {
      "text/plain": [
       "array(['300이상500만원 미만', '300만원 미만', '700만원 이상', '500이상700만원 미만'],\n",
       "      dtype=object)"
      ]
     },
     "execution_count": 11,
     "metadata": {},
     "output_type": "execute_result"
    }
   ],
   "source": [
    "df['income'].unique()"
   ]
  },
  {
   "cell_type": "code",
   "execution_count": 12,
   "id": "ea8a6294",
   "metadata": {},
   "outputs": [],
   "source": [
    "# X, y분리"
   ]
  },
  {
   "cell_type": "code",
   "execution_count": 13,
   "id": "361ffe71",
   "metadata": {},
   "outputs": [],
   "source": [
    "X = df.loc[:, 'gender':'etc']"
   ]
  },
  {
   "cell_type": "code",
   "execution_count": 14,
   "id": "08d0e979",
   "metadata": {},
   "outputs": [
    {
     "data": {
      "text/html": [
       "<div>\n",
       "<style scoped>\n",
       "    .dataframe tbody tr th:only-of-type {\n",
       "        vertical-align: middle;\n",
       "    }\n",
       "\n",
       "    .dataframe tbody tr th {\n",
       "        vertical-align: top;\n",
       "    }\n",
       "\n",
       "    .dataframe thead th {\n",
       "        text-align: right;\n",
       "    }\n",
       "</style>\n",
       "<table border=\"1\" class=\"dataframe\">\n",
       "  <thead>\n",
       "    <tr style=\"text-align: right;\">\n",
       "      <th></th>\n",
       "      <th>gender</th>\n",
       "      <th>age</th>\n",
       "      <th>lsr_work</th>\n",
       "      <th>lsr_weekend</th>\n",
       "      <th>lsr_tot</th>\n",
       "      <th>rest</th>\n",
       "      <th>hobby</th>\n",
       "      <th>self</th>\n",
       "      <th>relation</th>\n",
       "      <th>etc</th>\n",
       "    </tr>\n",
       "  </thead>\n",
       "  <tbody>\n",
       "    <tr>\n",
       "      <th>0</th>\n",
       "      <td>M</td>\n",
       "      <td>60대</td>\n",
       "      <td>8</td>\n",
       "      <td>12</td>\n",
       "      <td>64</td>\n",
       "      <td>50</td>\n",
       "      <td>30</td>\n",
       "      <td>0</td>\n",
       "      <td>20</td>\n",
       "      <td>0</td>\n",
       "    </tr>\n",
       "    <tr>\n",
       "      <th>1</th>\n",
       "      <td>M</td>\n",
       "      <td>20대</td>\n",
       "      <td>2</td>\n",
       "      <td>4</td>\n",
       "      <td>18</td>\n",
       "      <td>50</td>\n",
       "      <td>10</td>\n",
       "      <td>10</td>\n",
       "      <td>30</td>\n",
       "      <td>0</td>\n",
       "    </tr>\n",
       "    <tr>\n",
       "      <th>2</th>\n",
       "      <td>F</td>\n",
       "      <td>60대</td>\n",
       "      <td>8</td>\n",
       "      <td>6</td>\n",
       "      <td>52</td>\n",
       "      <td>30</td>\n",
       "      <td>20</td>\n",
       "      <td>40</td>\n",
       "      <td>10</td>\n",
       "      <td>0</td>\n",
       "    </tr>\n",
       "    <tr>\n",
       "      <th>3</th>\n",
       "      <td>F</td>\n",
       "      <td>50대</td>\n",
       "      <td>4</td>\n",
       "      <td>6</td>\n",
       "      <td>32</td>\n",
       "      <td>15</td>\n",
       "      <td>15</td>\n",
       "      <td>20</td>\n",
       "      <td>50</td>\n",
       "      <td>0</td>\n",
       "    </tr>\n",
       "    <tr>\n",
       "      <th>4</th>\n",
       "      <td>F</td>\n",
       "      <td>50대</td>\n",
       "      <td>5</td>\n",
       "      <td>5</td>\n",
       "      <td>35</td>\n",
       "      <td>20</td>\n",
       "      <td>20</td>\n",
       "      <td>20</td>\n",
       "      <td>20</td>\n",
       "      <td>20</td>\n",
       "    </tr>\n",
       "    <tr>\n",
       "      <th>...</th>\n",
       "      <td>...</td>\n",
       "      <td>...</td>\n",
       "      <td>...</td>\n",
       "      <td>...</td>\n",
       "      <td>...</td>\n",
       "      <td>...</td>\n",
       "      <td>...</td>\n",
       "      <td>...</td>\n",
       "      <td>...</td>\n",
       "      <td>...</td>\n",
       "    </tr>\n",
       "    <tr>\n",
       "      <th>12583</th>\n",
       "      <td>M</td>\n",
       "      <td>40대</td>\n",
       "      <td>2</td>\n",
       "      <td>3</td>\n",
       "      <td>16</td>\n",
       "      <td>40</td>\n",
       "      <td>30</td>\n",
       "      <td>30</td>\n",
       "      <td>0</td>\n",
       "      <td>0</td>\n",
       "    </tr>\n",
       "    <tr>\n",
       "      <th>12584</th>\n",
       "      <td>F</td>\n",
       "      <td>50대</td>\n",
       "      <td>0</td>\n",
       "      <td>10</td>\n",
       "      <td>20</td>\n",
       "      <td>10</td>\n",
       "      <td>20</td>\n",
       "      <td>30</td>\n",
       "      <td>20</td>\n",
       "      <td>20</td>\n",
       "    </tr>\n",
       "    <tr>\n",
       "      <th>12586</th>\n",
       "      <td>M</td>\n",
       "      <td>50대</td>\n",
       "      <td>5</td>\n",
       "      <td>12</td>\n",
       "      <td>49</td>\n",
       "      <td>40</td>\n",
       "      <td>20</td>\n",
       "      <td>15</td>\n",
       "      <td>25</td>\n",
       "      <td>0</td>\n",
       "    </tr>\n",
       "    <tr>\n",
       "      <th>12587</th>\n",
       "      <td>F</td>\n",
       "      <td>50대</td>\n",
       "      <td>2</td>\n",
       "      <td>0</td>\n",
       "      <td>10</td>\n",
       "      <td>30</td>\n",
       "      <td>40</td>\n",
       "      <td>10</td>\n",
       "      <td>20</td>\n",
       "      <td>0</td>\n",
       "    </tr>\n",
       "    <tr>\n",
       "      <th>12588</th>\n",
       "      <td>F</td>\n",
       "      <td>60대</td>\n",
       "      <td>2</td>\n",
       "      <td>2</td>\n",
       "      <td>14</td>\n",
       "      <td>0</td>\n",
       "      <td>50</td>\n",
       "      <td>0</td>\n",
       "      <td>50</td>\n",
       "      <td>0</td>\n",
       "    </tr>\n",
       "  </tbody>\n",
       "</table>\n",
       "<p>11878 rows × 10 columns</p>\n",
       "</div>"
      ],
      "text/plain": [
       "      gender  age  lsr_work  lsr_weekend  lsr_tot  rest  hobby  self  \\\n",
       "0          M  60대         8           12       64    50     30     0   \n",
       "1          M  20대         2            4       18    50     10    10   \n",
       "2          F  60대         8            6       52    30     20    40   \n",
       "3          F  50대         4            6       32    15     15    20   \n",
       "4          F  50대         5            5       35    20     20    20   \n",
       "...      ...  ...       ...          ...      ...   ...    ...   ...   \n",
       "12583      M  40대         2            3       16    40     30    30   \n",
       "12584      F  50대         0           10       20    10     20    30   \n",
       "12586      M  50대         5           12       49    40     20    15   \n",
       "12587      F  50대         2            0       10    30     40    10   \n",
       "12588      F  60대         2            2       14     0     50     0   \n",
       "\n",
       "       relation  etc  \n",
       "0            20    0  \n",
       "1            30    0  \n",
       "2            10    0  \n",
       "3            50    0  \n",
       "4            20   20  \n",
       "...         ...  ...  \n",
       "12583         0    0  \n",
       "12584        20   20  \n",
       "12586        25    0  \n",
       "12587        20    0  \n",
       "12588        50    0  \n",
       "\n",
       "[11878 rows x 10 columns]"
      ]
     },
     "execution_count": 14,
     "metadata": {},
     "output_type": "execute_result"
    }
   ],
   "source": [
    "X"
   ]
  },
  {
   "cell_type": "code",
   "execution_count": 15,
   "id": "67785b66",
   "metadata": {},
   "outputs": [],
   "source": [
    "y = df['income']"
   ]
  },
  {
   "cell_type": "code",
   "execution_count": 16,
   "id": "c1c8f5ef",
   "metadata": {},
   "outputs": [
    {
     "data": {
      "text/plain": [
       "0        300이상500만원 미만\n",
       "1             300만원 미만\n",
       "2             700만원 이상\n",
       "3        500이상700만원 미만\n",
       "4             300만원 미만\n",
       "             ...      \n",
       "12583         300만원 미만\n",
       "12584    300이상500만원 미만\n",
       "12586    500이상700만원 미만\n",
       "12587    500이상700만원 미만\n",
       "12588         300만원 미만\n",
       "Name: income, Length: 11878, dtype: object"
      ]
     },
     "execution_count": 16,
     "metadata": {},
     "output_type": "execute_result"
    }
   ],
   "source": [
    "y"
   ]
  },
  {
   "cell_type": "code",
   "execution_count": 17,
   "id": "9c1951b8",
   "metadata": {},
   "outputs": [],
   "source": [
    "y = y.to_frame()"
   ]
  },
  {
   "cell_type": "code",
   "execution_count": 18,
   "id": "daae8c26",
   "metadata": {},
   "outputs": [
    {
     "data": {
      "text/plain": [
       "array(['M', 'F'], dtype=object)"
      ]
     },
     "execution_count": 18,
     "metadata": {},
     "output_type": "execute_result"
    }
   ],
   "source": [
    "X['gender'].unique()"
   ]
  },
  {
   "cell_type": "code",
   "execution_count": 19,
   "id": "e1526e2f",
   "metadata": {},
   "outputs": [
    {
     "data": {
      "text/plain": [
       "array(['60대', '20대', '50대', '30대', '40대'], dtype=object)"
      ]
     },
     "execution_count": 19,
     "metadata": {},
     "output_type": "execute_result"
    }
   ],
   "source": [
    "X['age'].unique()"
   ]
  },
  {
   "cell_type": "code",
   "execution_count": null,
   "id": "6fd6af59",
   "metadata": {},
   "outputs": [],
   "source": [
    "# one-hot encoding"
   ]
  },
  {
   "cell_type": "code",
   "execution_count": 20,
   "id": "8c12d0e8",
   "metadata": {},
   "outputs": [],
   "source": [
    "from sklearn.preprocessing import OneHotEncoder, LabelEncoder\n",
    "from sklearn.compose import ColumnTransformer"
   ]
  },
  {
   "cell_type": "code",
   "execution_count": 21,
   "id": "e736f05c",
   "metadata": {},
   "outputs": [],
   "source": [
    "X_ct = ColumnTransformer( [ ('encoder', OneHotEncoder(), [0, 1]) ],\n",
    "                      # [(   이름,    트랜스포머,    컬럼 ) ]                 \n",
    "                       remainder= 'passthrough')\n",
    "                       # remainder = 'drop' : 변환하지 않는 컬럼을 모두 버린다.\n",
    "                       # remainder = 'passthrough : 변환하지 않는 컬럼을 그대로 놔둔다."
   ]
  },
  {
   "cell_type": "code",
   "execution_count": 22,
   "id": "bdf8d842",
   "metadata": {},
   "outputs": [],
   "source": [
    "X = X_ct.fit_transform(X)"
   ]
  },
  {
   "cell_type": "code",
   "execution_count": 23,
   "id": "53f1b91e",
   "metadata": {},
   "outputs": [
    {
     "data": {
      "text/plain": [
       "(11878, 15)"
      ]
     },
     "execution_count": 23,
     "metadata": {},
     "output_type": "execute_result"
    }
   ],
   "source": [
    "X.shape"
   ]
  },
  {
   "cell_type": "code",
   "execution_count": 24,
   "id": "8fba0c7c",
   "metadata": {
    "scrolled": true
   },
   "outputs": [
    {
     "data": {
      "text/plain": [
       "array([ 1.,  0.,  0.,  0.,  0.,  1.,  0.,  4.,  6., 32., 15., 15., 20.,\n",
       "       50.,  0.])"
      ]
     },
     "execution_count": 24,
     "metadata": {},
     "output_type": "execute_result"
    }
   ],
   "source": [
    "X[3]"
   ]
  },
  {
   "cell_type": "code",
   "execution_count": null,
   "id": "549325f5",
   "metadata": {},
   "outputs": [],
   "source": []
  },
  {
   "cell_type": "code",
   "execution_count": 25,
   "id": "0618697d",
   "metadata": {},
   "outputs": [],
   "source": [
    "y_encoder = LabelEncoder()"
   ]
  },
  {
   "cell_type": "code",
   "execution_count": 29,
   "id": "f7402549",
   "metadata": {},
   "outputs": [],
   "source": [
    "y = y_encoder.fit_transform(y)"
   ]
  },
  {
   "cell_type": "code",
   "execution_count": 30,
   "id": "0e520cd9",
   "metadata": {},
   "outputs": [
    {
     "data": {
      "text/plain": [
       "array([1, 0, 3, ..., 2, 2, 0], dtype=int64)"
      ]
     },
     "execution_count": 30,
     "metadata": {},
     "output_type": "execute_result"
    }
   ],
   "source": [
    "y"
   ]
  },
  {
   "cell_type": "code",
   "execution_count": null,
   "id": "8579f043",
   "metadata": {},
   "outputs": [],
   "source": []
  },
  {
   "cell_type": "code",
   "execution_count": null,
   "id": "2acef4ea",
   "metadata": {},
   "outputs": [],
   "source": [
    "# 트레인테스트분리"
   ]
  },
  {
   "cell_type": "code",
   "execution_count": 32,
   "id": "89f265c3",
   "metadata": {},
   "outputs": [],
   "source": [
    "from sklearn.model_selection import train_test_split"
   ]
  },
  {
   "cell_type": "code",
   "execution_count": 33,
   "id": "baaecea0",
   "metadata": {},
   "outputs": [],
   "source": [
    "X_train, X_test, y_train, y_test = train_test_split(X, y, test_size=0.25,\n",
    "                                                   random_state=1)"
   ]
  },
  {
   "cell_type": "code",
   "execution_count": 34,
   "id": "60ea2830",
   "metadata": {},
   "outputs": [
    {
     "data": {
      "text/plain": [
       "(8908, 15)"
      ]
     },
     "execution_count": 34,
     "metadata": {},
     "output_type": "execute_result"
    }
   ],
   "source": [
    "X_train.shape"
   ]
  },
  {
   "cell_type": "code",
   "execution_count": 35,
   "id": "ecd7bcb6",
   "metadata": {},
   "outputs": [
    {
     "data": {
      "text/plain": [
       "(2970, 15)"
      ]
     },
     "execution_count": 35,
     "metadata": {},
     "output_type": "execute_result"
    }
   ],
   "source": [
    "X_test.shape"
   ]
  },
  {
   "cell_type": "code",
   "execution_count": 36,
   "id": "cf20016b",
   "metadata": {},
   "outputs": [
    {
     "data": {
      "text/plain": [
       "(8908,)"
      ]
     },
     "execution_count": 36,
     "metadata": {},
     "output_type": "execute_result"
    }
   ],
   "source": [
    "y_train.shape"
   ]
  },
  {
   "cell_type": "code",
   "execution_count": 37,
   "id": "a71830b7",
   "metadata": {},
   "outputs": [
    {
     "data": {
      "text/plain": [
       "(2970,)"
      ]
     },
     "execution_count": 37,
     "metadata": {},
     "output_type": "execute_result"
    }
   ],
   "source": [
    "y_test.shape"
   ]
  },
  {
   "cell_type": "code",
   "execution_count": null,
   "id": "e968e0d4",
   "metadata": {},
   "outputs": [],
   "source": [
    "# 모델링"
   ]
  },
  {
   "cell_type": "code",
   "execution_count": 38,
   "id": "7d783cfb",
   "metadata": {},
   "outputs": [],
   "source": [
    "from sklearn.tree import DecisionTreeClassifier"
   ]
  },
  {
   "cell_type": "code",
   "execution_count": 39,
   "id": "04106dae",
   "metadata": {},
   "outputs": [],
   "source": [
    "classifier = DecisionTreeClassifier(random_state=1)"
   ]
  },
  {
   "cell_type": "code",
   "execution_count": 40,
   "id": "b268ee0b",
   "metadata": {},
   "outputs": [
    {
     "data": {
      "text/html": [
       "<style>#sk-container-id-1 {color: black;background-color: white;}#sk-container-id-1 pre{padding: 0;}#sk-container-id-1 div.sk-toggleable {background-color: white;}#sk-container-id-1 label.sk-toggleable__label {cursor: pointer;display: block;width: 100%;margin-bottom: 0;padding: 0.3em;box-sizing: border-box;text-align: center;}#sk-container-id-1 label.sk-toggleable__label-arrow:before {content: \"▸\";float: left;margin-right: 0.25em;color: #696969;}#sk-container-id-1 label.sk-toggleable__label-arrow:hover:before {color: black;}#sk-container-id-1 div.sk-estimator:hover label.sk-toggleable__label-arrow:before {color: black;}#sk-container-id-1 div.sk-toggleable__content {max-height: 0;max-width: 0;overflow: hidden;text-align: left;background-color: #f0f8ff;}#sk-container-id-1 div.sk-toggleable__content pre {margin: 0.2em;color: black;border-radius: 0.25em;background-color: #f0f8ff;}#sk-container-id-1 input.sk-toggleable__control:checked~div.sk-toggleable__content {max-height: 200px;max-width: 100%;overflow: auto;}#sk-container-id-1 input.sk-toggleable__control:checked~label.sk-toggleable__label-arrow:before {content: \"▾\";}#sk-container-id-1 div.sk-estimator input.sk-toggleable__control:checked~label.sk-toggleable__label {background-color: #d4ebff;}#sk-container-id-1 div.sk-label input.sk-toggleable__control:checked~label.sk-toggleable__label {background-color: #d4ebff;}#sk-container-id-1 input.sk-hidden--visually {border: 0;clip: rect(1px 1px 1px 1px);clip: rect(1px, 1px, 1px, 1px);height: 1px;margin: -1px;overflow: hidden;padding: 0;position: absolute;width: 1px;}#sk-container-id-1 div.sk-estimator {font-family: monospace;background-color: #f0f8ff;border: 1px dotted black;border-radius: 0.25em;box-sizing: border-box;margin-bottom: 0.5em;}#sk-container-id-1 div.sk-estimator:hover {background-color: #d4ebff;}#sk-container-id-1 div.sk-parallel-item::after {content: \"\";width: 100%;border-bottom: 1px solid gray;flex-grow: 1;}#sk-container-id-1 div.sk-label:hover label.sk-toggleable__label {background-color: #d4ebff;}#sk-container-id-1 div.sk-serial::before {content: \"\";position: absolute;border-left: 1px solid gray;box-sizing: border-box;top: 0;bottom: 0;left: 50%;z-index: 0;}#sk-container-id-1 div.sk-serial {display: flex;flex-direction: column;align-items: center;background-color: white;padding-right: 0.2em;padding-left: 0.2em;position: relative;}#sk-container-id-1 div.sk-item {position: relative;z-index: 1;}#sk-container-id-1 div.sk-parallel {display: flex;align-items: stretch;justify-content: center;background-color: white;position: relative;}#sk-container-id-1 div.sk-item::before, #sk-container-id-1 div.sk-parallel-item::before {content: \"\";position: absolute;border-left: 1px solid gray;box-sizing: border-box;top: 0;bottom: 0;left: 50%;z-index: -1;}#sk-container-id-1 div.sk-parallel-item {display: flex;flex-direction: column;z-index: 1;position: relative;background-color: white;}#sk-container-id-1 div.sk-parallel-item:first-child::after {align-self: flex-end;width: 50%;}#sk-container-id-1 div.sk-parallel-item:last-child::after {align-self: flex-start;width: 50%;}#sk-container-id-1 div.sk-parallel-item:only-child::after {width: 0;}#sk-container-id-1 div.sk-dashed-wrapped {border: 1px dashed gray;margin: 0 0.4em 0.5em 0.4em;box-sizing: border-box;padding-bottom: 0.4em;background-color: white;}#sk-container-id-1 div.sk-label label {font-family: monospace;font-weight: bold;display: inline-block;line-height: 1.2em;}#sk-container-id-1 div.sk-label-container {text-align: center;}#sk-container-id-1 div.sk-container {/* jupyter's `normalize.less` sets `[hidden] { display: none; }` but bootstrap.min.css set `[hidden] { display: none !important; }` so we also need the `!important` here to be able to override the default hidden behavior on the sphinx rendered scikit-learn.org. See: https://github.com/scikit-learn/scikit-learn/issues/21755 */display: inline-block !important;position: relative;}#sk-container-id-1 div.sk-text-repr-fallback {display: none;}</style><div id=\"sk-container-id-1\" class=\"sk-top-container\"><div class=\"sk-text-repr-fallback\"><pre>DecisionTreeClassifier(random_state=1)</pre><b>In a Jupyter environment, please rerun this cell to show the HTML representation or trust the notebook. <br />On GitHub, the HTML representation is unable to render, please try loading this page with nbviewer.org.</b></div><div class=\"sk-container\" hidden><div class=\"sk-item\"><div class=\"sk-estimator sk-toggleable\"><input class=\"sk-toggleable__control sk-hidden--visually\" id=\"sk-estimator-id-1\" type=\"checkbox\" checked><label for=\"sk-estimator-id-1\" class=\"sk-toggleable__label sk-toggleable__label-arrow\">DecisionTreeClassifier</label><div class=\"sk-toggleable__content\"><pre>DecisionTreeClassifier(random_state=1)</pre></div></div></div></div></div>"
      ],
      "text/plain": [
       "DecisionTreeClassifier(random_state=1)"
      ]
     },
     "execution_count": 40,
     "metadata": {},
     "output_type": "execute_result"
    }
   ],
   "source": [
    "classifier.fit(X_train, y_train)"
   ]
  },
  {
   "cell_type": "code",
   "execution_count": 41,
   "id": "2da6fbc4",
   "metadata": {},
   "outputs": [],
   "source": [
    "y_pred = classifier.predict(X_test)"
   ]
  },
  {
   "cell_type": "code",
   "execution_count": 42,
   "id": "fd468a75",
   "metadata": {},
   "outputs": [
    {
     "data": {
      "text/plain": [
       "array([0, 3, 1, ..., 0, 3, 1], dtype=int64)"
      ]
     },
     "execution_count": 42,
     "metadata": {},
     "output_type": "execute_result"
    }
   ],
   "source": [
    "y_pred"
   ]
  },
  {
   "cell_type": "code",
   "execution_count": 43,
   "id": "efa0e0d0",
   "metadata": {},
   "outputs": [
    {
     "data": {
      "text/plain": [
       "array([3, 0, 0, ..., 3, 2, 1], dtype=int64)"
      ]
     },
     "execution_count": 43,
     "metadata": {},
     "output_type": "execute_result"
    }
   ],
   "source": [
    "y_test"
   ]
  },
  {
   "cell_type": "code",
   "execution_count": 44,
   "id": "68fd6515",
   "metadata": {},
   "outputs": [],
   "source": [
    "from sklearn.metrics import confusion_matrix, accuracy_score"
   ]
  },
  {
   "cell_type": "code",
   "execution_count": 45,
   "id": "b79b9df7",
   "metadata": {},
   "outputs": [],
   "source": [
    "cm = confusion_matrix(y_test, y_pred)"
   ]
  },
  {
   "cell_type": "code",
   "execution_count": 46,
   "id": "a375a56b",
   "metadata": {},
   "outputs": [
    {
     "data": {
      "text/plain": [
       "array([[254, 243, 153, 148],\n",
       "       [249, 300, 203, 176],\n",
       "       [167, 192, 133, 143],\n",
       "       [148, 211, 115, 135]], dtype=int64)"
      ]
     },
     "execution_count": 46,
     "metadata": {},
     "output_type": "execute_result"
    }
   ],
   "source": [
    "cm"
   ]
  },
  {
   "cell_type": "code",
   "execution_count": 50,
   "id": "1c6ac887",
   "metadata": {},
   "outputs": [
    {
     "data": {
      "text/plain": [
       "0.2767676767676768"
      ]
     },
     "execution_count": 50,
     "metadata": {},
     "output_type": "execute_result"
    }
   ],
   "source": [
    "accuracy_score(y_test, y_pred)"
   ]
  },
  {
   "cell_type": "code",
   "execution_count": 49,
   "id": "d2ef9060",
   "metadata": {},
   "outputs": [
    {
     "data": {
      "text/plain": [
       "(2970,)"
      ]
     },
     "execution_count": 49,
     "metadata": {},
     "output_type": "execute_result"
    }
   ],
   "source": [
    "y_pred.shape"
   ]
  },
  {
   "cell_type": "code",
   "execution_count": 48,
   "id": "38a0b8e1",
   "metadata": {},
   "outputs": [
    {
     "data": {
      "text/plain": [
       "(2970,)"
      ]
     },
     "execution_count": 48,
     "metadata": {},
     "output_type": "execute_result"
    }
   ],
   "source": [
    "y_test.shape"
   ]
  },
  {
   "cell_type": "code",
   "execution_count": null,
   "id": "875f64f7",
   "metadata": {},
   "outputs": [],
   "source": []
  }
 ],
 "metadata": {
  "kernelspec": {
   "display_name": "Python 3 (ipykernel)",
   "language": "python",
   "name": "python3"
  },
  "language_info": {
   "codemirror_mode": {
    "name": "ipython",
    "version": 3
   },
   "file_extension": ".py",
   "mimetype": "text/x-python",
   "name": "python",
   "nbconvert_exporter": "python",
   "pygments_lexer": "ipython3",
   "version": "3.8.13"
  }
 },
 "nbformat": 4,
 "nbformat_minor": 5
}
