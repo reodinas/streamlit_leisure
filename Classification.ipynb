{
 "cells": [
  {
   "cell_type": "code",
   "execution_count": 1,
   "id": "855c6bc4",
   "metadata": {},
   "outputs": [],
   "source": [
    "import pandas as pd\n",
    "import numpy as np"
   ]
  },
  {
   "cell_type": "code",
   "execution_count": 2,
   "id": "6ed83e0a",
   "metadata": {},
   "outputs": [],
   "source": [
    "df_origin = pd.read_csv('df_origin.csv', index_col=0)\n",
    "\n",
    "df = df_origin.copy()\n",
    "# 컬럼명 변경\n",
    "df = df.rename(columns={'EXAMIN_BEGIN_DE':'date', \n",
    "                    'SEXDSTN_FLAG_CD': 'gender',\n",
    "                    'AGRDE_FLAG_NM': 'age',\n",
    "                    'ANSWRR_OC_AREA_NM': 'area',\n",
    "                    'HSHLD_INCOME_DGREE_NM': 'income',\n",
    "                    'WORKDAY_DAY_AVRG_LSR_TIME_VALUE': 'lsr_work',\n",
    "                    'WKEND_DAY_AVRG_LSR_TIME_VALUE': 'lsr_weekend',\n",
    "                    'ONE_WEEK_TOT_LSR_TIME_VALUE': 'lsr_tot',\n",
    "                    'LSR_TIME_REST_RCRT_USE_RATE': 'rest',\n",
    "                    'LSR_TIME_HOBBY_USE_RATE': 'hobby',\n",
    "                    'LSR_TIME_SELF_IMPT_USE_RATE': 'self',\n",
    "                    'LSR_TIME_TWDPSN_RLTN_FLWSP_USE_RATE': 'relation',\n",
    "                    'LSR_TIME_ETC_USE_RATE': 'etc'\n",
    "                    })\n",
    "# 조사날짜 컬럼 타입변경\n",
    "df['date'] = pd.to_datetime(df['date'], format='%Y%m%d').dt.strftime('%Y-%m-%d')"
   ]
  },
  {
   "cell_type": "code",
   "execution_count": 3,
   "id": "c40c775c",
   "metadata": {},
   "outputs": [
    {
     "data": {
      "text/html": [
       "<div>\n",
       "<style scoped>\n",
       "    .dataframe tbody tr th:only-of-type {\n",
       "        vertical-align: middle;\n",
       "    }\n",
       "\n",
       "    .dataframe tbody tr th {\n",
       "        vertical-align: top;\n",
       "    }\n",
       "\n",
       "    .dataframe thead th {\n",
       "        text-align: right;\n",
       "    }\n",
       "</style>\n",
       "<table border=\"1\" class=\"dataframe\">\n",
       "  <thead>\n",
       "    <tr style=\"text-align: right;\">\n",
       "      <th></th>\n",
       "      <th>RESPOND_ID</th>\n",
       "      <th>EXAMIN_BEGIN_DE</th>\n",
       "      <th>SEXDSTN_FLAG_CD</th>\n",
       "      <th>AGRDE_FLAG_NM</th>\n",
       "      <th>ANSWRR_OC_AREA_NM</th>\n",
       "      <th>HSHLD_INCOME_DGREE_NM</th>\n",
       "      <th>WORKDAY_DAY_AVRG_LSR_TIME_VALUE</th>\n",
       "      <th>WKEND_DAY_AVRG_LSR_TIME_VALUE</th>\n",
       "      <th>ONE_WEEK_TOT_LSR_TIME_VALUE</th>\n",
       "      <th>LSR_TIME_REST_RCRT_USE_RATE</th>\n",
       "      <th>LSR_TIME_HOBBY_USE_RATE</th>\n",
       "      <th>LSR_TIME_SELF_IMPT_USE_RATE</th>\n",
       "      <th>LSR_TIME_TWDPSN_RLTN_FLWSP_USE_RATE</th>\n",
       "      <th>LSR_TIME_ETC_USE_RATE</th>\n",
       "    </tr>\n",
       "  </thead>\n",
       "  <tbody>\n",
       "    <tr>\n",
       "      <th>0</th>\n",
       "      <td>3013</td>\n",
       "      <td>20220105</td>\n",
       "      <td>F</td>\n",
       "      <td>50대</td>\n",
       "      <td>광주광역시</td>\n",
       "      <td>300이상500만원 미만</td>\n",
       "      <td>2</td>\n",
       "      <td>3</td>\n",
       "      <td>16</td>\n",
       "      <td>40</td>\n",
       "      <td>0</td>\n",
       "      <td>0</td>\n",
       "      <td>60</td>\n",
       "      <td>0</td>\n",
       "    </tr>\n",
       "    <tr>\n",
       "      <th>1</th>\n",
       "      <td>3183</td>\n",
       "      <td>20220105</td>\n",
       "      <td>M</td>\n",
       "      <td>60대</td>\n",
       "      <td>전라남도</td>\n",
       "      <td>300만원 미만</td>\n",
       "      <td>3</td>\n",
       "      <td>5</td>\n",
       "      <td>25</td>\n",
       "      <td>0</td>\n",
       "      <td>0</td>\n",
       "      <td>0</td>\n",
       "      <td>30</td>\n",
       "      <td>70</td>\n",
       "    </tr>\n",
       "    <tr>\n",
       "      <th>2</th>\n",
       "      <td>5989</td>\n",
       "      <td>20220105</td>\n",
       "      <td>F</td>\n",
       "      <td>30대</td>\n",
       "      <td>경기도</td>\n",
       "      <td>300이상500만원 미만</td>\n",
       "      <td>3</td>\n",
       "      <td>12</td>\n",
       "      <td>39</td>\n",
       "      <td>60</td>\n",
       "      <td>40</td>\n",
       "      <td>0</td>\n",
       "      <td>0</td>\n",
       "      <td>0</td>\n",
       "    </tr>\n",
       "    <tr>\n",
       "      <th>3</th>\n",
       "      <td>6742</td>\n",
       "      <td>20220105</td>\n",
       "      <td>M</td>\n",
       "      <td>50대</td>\n",
       "      <td>대전광역시</td>\n",
       "      <td>300만원 미만</td>\n",
       "      <td>3</td>\n",
       "      <td>3</td>\n",
       "      <td>21</td>\n",
       "      <td>0</td>\n",
       "      <td>0</td>\n",
       "      <td>25</td>\n",
       "      <td>65</td>\n",
       "      <td>10</td>\n",
       "    </tr>\n",
       "    <tr>\n",
       "      <th>4</th>\n",
       "      <td>9242</td>\n",
       "      <td>20220105</td>\n",
       "      <td>F</td>\n",
       "      <td>30대</td>\n",
       "      <td>경기도</td>\n",
       "      <td>500이상700만원 미만</td>\n",
       "      <td>3</td>\n",
       "      <td>12</td>\n",
       "      <td>39</td>\n",
       "      <td>50</td>\n",
       "      <td>0</td>\n",
       "      <td>20</td>\n",
       "      <td>30</td>\n",
       "      <td>0</td>\n",
       "    </tr>\n",
       "    <tr>\n",
       "      <th>...</th>\n",
       "      <td>...</td>\n",
       "      <td>...</td>\n",
       "      <td>...</td>\n",
       "      <td>...</td>\n",
       "      <td>...</td>\n",
       "      <td>...</td>\n",
       "      <td>...</td>\n",
       "      <td>...</td>\n",
       "      <td>...</td>\n",
       "      <td>...</td>\n",
       "      <td>...</td>\n",
       "      <td>...</td>\n",
       "      <td>...</td>\n",
       "      <td>...</td>\n",
       "    </tr>\n",
       "    <tr>\n",
       "      <th>22762</th>\n",
       "      <td>53376818</td>\n",
       "      <td>20221102</td>\n",
       "      <td>F</td>\n",
       "      <td>50대</td>\n",
       "      <td>서울특별시</td>\n",
       "      <td>300이상500만원 미만</td>\n",
       "      <td>0</td>\n",
       "      <td>10</td>\n",
       "      <td>20</td>\n",
       "      <td>10</td>\n",
       "      <td>20</td>\n",
       "      <td>30</td>\n",
       "      <td>20</td>\n",
       "      <td>20</td>\n",
       "    </tr>\n",
       "    <tr>\n",
       "      <th>22763</th>\n",
       "      <td>53376835</td>\n",
       "      <td>20221102</td>\n",
       "      <td>M</td>\n",
       "      <td>20대</td>\n",
       "      <td>경기도</td>\n",
       "      <td>무응답</td>\n",
       "      <td>5</td>\n",
       "      <td>9</td>\n",
       "      <td>43</td>\n",
       "      <td>50</td>\n",
       "      <td>0</td>\n",
       "      <td>0</td>\n",
       "      <td>50</td>\n",
       "      <td>0</td>\n",
       "    </tr>\n",
       "    <tr>\n",
       "      <th>22764</th>\n",
       "      <td>53376856</td>\n",
       "      <td>20221102</td>\n",
       "      <td>M</td>\n",
       "      <td>50대</td>\n",
       "      <td>경기도</td>\n",
       "      <td>500이상700만원 미만</td>\n",
       "      <td>5</td>\n",
       "      <td>12</td>\n",
       "      <td>49</td>\n",
       "      <td>40</td>\n",
       "      <td>20</td>\n",
       "      <td>15</td>\n",
       "      <td>25</td>\n",
       "      <td>0</td>\n",
       "    </tr>\n",
       "    <tr>\n",
       "      <th>22765</th>\n",
       "      <td>53377393</td>\n",
       "      <td>20221102</td>\n",
       "      <td>F</td>\n",
       "      <td>50대</td>\n",
       "      <td>대구광역시</td>\n",
       "      <td>500이상700만원 미만</td>\n",
       "      <td>2</td>\n",
       "      <td>0</td>\n",
       "      <td>10</td>\n",
       "      <td>30</td>\n",
       "      <td>40</td>\n",
       "      <td>10</td>\n",
       "      <td>20</td>\n",
       "      <td>0</td>\n",
       "    </tr>\n",
       "    <tr>\n",
       "      <th>22766</th>\n",
       "      <td>53377523</td>\n",
       "      <td>20221102</td>\n",
       "      <td>F</td>\n",
       "      <td>60대</td>\n",
       "      <td>강원도</td>\n",
       "      <td>300만원 미만</td>\n",
       "      <td>2</td>\n",
       "      <td>2</td>\n",
       "      <td>14</td>\n",
       "      <td>0</td>\n",
       "      <td>50</td>\n",
       "      <td>0</td>\n",
       "      <td>50</td>\n",
       "      <td>0</td>\n",
       "    </tr>\n",
       "  </tbody>\n",
       "</table>\n",
       "<p>22767 rows × 14 columns</p>\n",
       "</div>"
      ],
      "text/plain": [
       "       RESPOND_ID  EXAMIN_BEGIN_DE SEXDSTN_FLAG_CD AGRDE_FLAG_NM  \\\n",
       "0            3013         20220105               F           50대   \n",
       "1            3183         20220105               M           60대   \n",
       "2            5989         20220105               F           30대   \n",
       "3            6742         20220105               M           50대   \n",
       "4            9242         20220105               F           30대   \n",
       "...           ...              ...             ...           ...   \n",
       "22762    53376818         20221102               F           50대   \n",
       "22763    53376835         20221102               M           20대   \n",
       "22764    53376856         20221102               M           50대   \n",
       "22765    53377393         20221102               F           50대   \n",
       "22766    53377523         20221102               F           60대   \n",
       "\n",
       "      ANSWRR_OC_AREA_NM HSHLD_INCOME_DGREE_NM  \\\n",
       "0                 광주광역시         300이상500만원 미만   \n",
       "1                  전라남도              300만원 미만   \n",
       "2                   경기도         300이상500만원 미만   \n",
       "3                 대전광역시              300만원 미만   \n",
       "4                   경기도         500이상700만원 미만   \n",
       "...                 ...                   ...   \n",
       "22762             서울특별시         300이상500만원 미만   \n",
       "22763               경기도                   무응답   \n",
       "22764               경기도         500이상700만원 미만   \n",
       "22765             대구광역시         500이상700만원 미만   \n",
       "22766               강원도              300만원 미만   \n",
       "\n",
       "       WORKDAY_DAY_AVRG_LSR_TIME_VALUE  WKEND_DAY_AVRG_LSR_TIME_VALUE  \\\n",
       "0                                    2                              3   \n",
       "1                                    3                              5   \n",
       "2                                    3                             12   \n",
       "3                                    3                              3   \n",
       "4                                    3                             12   \n",
       "...                                ...                            ...   \n",
       "22762                                0                             10   \n",
       "22763                                5                              9   \n",
       "22764                                5                             12   \n",
       "22765                                2                              0   \n",
       "22766                                2                              2   \n",
       "\n",
       "       ONE_WEEK_TOT_LSR_TIME_VALUE  LSR_TIME_REST_RCRT_USE_RATE  \\\n",
       "0                               16                           40   \n",
       "1                               25                            0   \n",
       "2                               39                           60   \n",
       "3                               21                            0   \n",
       "4                               39                           50   \n",
       "...                            ...                          ...   \n",
       "22762                           20                           10   \n",
       "22763                           43                           50   \n",
       "22764                           49                           40   \n",
       "22765                           10                           30   \n",
       "22766                           14                            0   \n",
       "\n",
       "       LSR_TIME_HOBBY_USE_RATE  LSR_TIME_SELF_IMPT_USE_RATE  \\\n",
       "0                            0                            0   \n",
       "1                            0                            0   \n",
       "2                           40                            0   \n",
       "3                            0                           25   \n",
       "4                            0                           20   \n",
       "...                        ...                          ...   \n",
       "22762                       20                           30   \n",
       "22763                        0                            0   \n",
       "22764                       20                           15   \n",
       "22765                       40                           10   \n",
       "22766                       50                            0   \n",
       "\n",
       "       LSR_TIME_TWDPSN_RLTN_FLWSP_USE_RATE  LSR_TIME_ETC_USE_RATE  \n",
       "0                                       60                      0  \n",
       "1                                       30                     70  \n",
       "2                                        0                      0  \n",
       "3                                       65                     10  \n",
       "4                                       30                      0  \n",
       "...                                    ...                    ...  \n",
       "22762                                   20                     20  \n",
       "22763                                   50                      0  \n",
       "22764                                   25                      0  \n",
       "22765                                   20                      0  \n",
       "22766                                   50                      0  \n",
       "\n",
       "[22767 rows x 14 columns]"
      ]
     },
     "execution_count": 3,
     "metadata": {},
     "output_type": "execute_result"
    }
   ],
   "source": [
    "df_origin"
   ]
  },
  {
   "cell_type": "code",
   "execution_count": null,
   "id": "52cbe23c",
   "metadata": {},
   "outputs": [],
   "source": []
  },
  {
   "cell_type": "code",
   "execution_count": 4,
   "id": "75ca8d89",
   "metadata": {},
   "outputs": [],
   "source": [
    "df = df[['income', 'gender', 'age', 'lsr_work', 'lsr_weekend', 'lsr_tot', 'rest', 'hobby', 'self', 'relation', 'etc']]"
   ]
  },
  {
   "cell_type": "code",
   "execution_count": 5,
   "id": "388f7fa6",
   "metadata": {},
   "outputs": [
    {
     "data": {
      "text/html": [
       "<div>\n",
       "<style scoped>\n",
       "    .dataframe tbody tr th:only-of-type {\n",
       "        vertical-align: middle;\n",
       "    }\n",
       "\n",
       "    .dataframe tbody tr th {\n",
       "        vertical-align: top;\n",
       "    }\n",
       "\n",
       "    .dataframe thead th {\n",
       "        text-align: right;\n",
       "    }\n",
       "</style>\n",
       "<table border=\"1\" class=\"dataframe\">\n",
       "  <thead>\n",
       "    <tr style=\"text-align: right;\">\n",
       "      <th></th>\n",
       "      <th>income</th>\n",
       "      <th>gender</th>\n",
       "      <th>age</th>\n",
       "      <th>lsr_work</th>\n",
       "      <th>lsr_weekend</th>\n",
       "      <th>lsr_tot</th>\n",
       "      <th>rest</th>\n",
       "      <th>hobby</th>\n",
       "      <th>self</th>\n",
       "      <th>relation</th>\n",
       "      <th>etc</th>\n",
       "    </tr>\n",
       "  </thead>\n",
       "  <tbody>\n",
       "    <tr>\n",
       "      <th>0</th>\n",
       "      <td>300이상500만원 미만</td>\n",
       "      <td>F</td>\n",
       "      <td>50대</td>\n",
       "      <td>2</td>\n",
       "      <td>3</td>\n",
       "      <td>16</td>\n",
       "      <td>40</td>\n",
       "      <td>0</td>\n",
       "      <td>0</td>\n",
       "      <td>60</td>\n",
       "      <td>0</td>\n",
       "    </tr>\n",
       "    <tr>\n",
       "      <th>1</th>\n",
       "      <td>300만원 미만</td>\n",
       "      <td>M</td>\n",
       "      <td>60대</td>\n",
       "      <td>3</td>\n",
       "      <td>5</td>\n",
       "      <td>25</td>\n",
       "      <td>0</td>\n",
       "      <td>0</td>\n",
       "      <td>0</td>\n",
       "      <td>30</td>\n",
       "      <td>70</td>\n",
       "    </tr>\n",
       "    <tr>\n",
       "      <th>2</th>\n",
       "      <td>300이상500만원 미만</td>\n",
       "      <td>F</td>\n",
       "      <td>30대</td>\n",
       "      <td>3</td>\n",
       "      <td>12</td>\n",
       "      <td>39</td>\n",
       "      <td>60</td>\n",
       "      <td>40</td>\n",
       "      <td>0</td>\n",
       "      <td>0</td>\n",
       "      <td>0</td>\n",
       "    </tr>\n",
       "    <tr>\n",
       "      <th>3</th>\n",
       "      <td>300만원 미만</td>\n",
       "      <td>M</td>\n",
       "      <td>50대</td>\n",
       "      <td>3</td>\n",
       "      <td>3</td>\n",
       "      <td>21</td>\n",
       "      <td>0</td>\n",
       "      <td>0</td>\n",
       "      <td>25</td>\n",
       "      <td>65</td>\n",
       "      <td>10</td>\n",
       "    </tr>\n",
       "    <tr>\n",
       "      <th>4</th>\n",
       "      <td>500이상700만원 미만</td>\n",
       "      <td>F</td>\n",
       "      <td>30대</td>\n",
       "      <td>3</td>\n",
       "      <td>12</td>\n",
       "      <td>39</td>\n",
       "      <td>50</td>\n",
       "      <td>0</td>\n",
       "      <td>20</td>\n",
       "      <td>30</td>\n",
       "      <td>0</td>\n",
       "    </tr>\n",
       "    <tr>\n",
       "      <th>...</th>\n",
       "      <td>...</td>\n",
       "      <td>...</td>\n",
       "      <td>...</td>\n",
       "      <td>...</td>\n",
       "      <td>...</td>\n",
       "      <td>...</td>\n",
       "      <td>...</td>\n",
       "      <td>...</td>\n",
       "      <td>...</td>\n",
       "      <td>...</td>\n",
       "      <td>...</td>\n",
       "    </tr>\n",
       "    <tr>\n",
       "      <th>22762</th>\n",
       "      <td>300이상500만원 미만</td>\n",
       "      <td>F</td>\n",
       "      <td>50대</td>\n",
       "      <td>0</td>\n",
       "      <td>10</td>\n",
       "      <td>20</td>\n",
       "      <td>10</td>\n",
       "      <td>20</td>\n",
       "      <td>30</td>\n",
       "      <td>20</td>\n",
       "      <td>20</td>\n",
       "    </tr>\n",
       "    <tr>\n",
       "      <th>22763</th>\n",
       "      <td>무응답</td>\n",
       "      <td>M</td>\n",
       "      <td>20대</td>\n",
       "      <td>5</td>\n",
       "      <td>9</td>\n",
       "      <td>43</td>\n",
       "      <td>50</td>\n",
       "      <td>0</td>\n",
       "      <td>0</td>\n",
       "      <td>50</td>\n",
       "      <td>0</td>\n",
       "    </tr>\n",
       "    <tr>\n",
       "      <th>22764</th>\n",
       "      <td>500이상700만원 미만</td>\n",
       "      <td>M</td>\n",
       "      <td>50대</td>\n",
       "      <td>5</td>\n",
       "      <td>12</td>\n",
       "      <td>49</td>\n",
       "      <td>40</td>\n",
       "      <td>20</td>\n",
       "      <td>15</td>\n",
       "      <td>25</td>\n",
       "      <td>0</td>\n",
       "    </tr>\n",
       "    <tr>\n",
       "      <th>22765</th>\n",
       "      <td>500이상700만원 미만</td>\n",
       "      <td>F</td>\n",
       "      <td>50대</td>\n",
       "      <td>2</td>\n",
       "      <td>0</td>\n",
       "      <td>10</td>\n",
       "      <td>30</td>\n",
       "      <td>40</td>\n",
       "      <td>10</td>\n",
       "      <td>20</td>\n",
       "      <td>0</td>\n",
       "    </tr>\n",
       "    <tr>\n",
       "      <th>22766</th>\n",
       "      <td>300만원 미만</td>\n",
       "      <td>F</td>\n",
       "      <td>60대</td>\n",
       "      <td>2</td>\n",
       "      <td>2</td>\n",
       "      <td>14</td>\n",
       "      <td>0</td>\n",
       "      <td>50</td>\n",
       "      <td>0</td>\n",
       "      <td>50</td>\n",
       "      <td>0</td>\n",
       "    </tr>\n",
       "  </tbody>\n",
       "</table>\n",
       "<p>22767 rows × 11 columns</p>\n",
       "</div>"
      ],
      "text/plain": [
       "              income gender  age  lsr_work  lsr_weekend  lsr_tot  rest  hobby  \\\n",
       "0      300이상500만원 미만      F  50대         2            3       16    40      0   \n",
       "1           300만원 미만      M  60대         3            5       25     0      0   \n",
       "2      300이상500만원 미만      F  30대         3           12       39    60     40   \n",
       "3           300만원 미만      M  50대         3            3       21     0      0   \n",
       "4      500이상700만원 미만      F  30대         3           12       39    50      0   \n",
       "...              ...    ...  ...       ...          ...      ...   ...    ...   \n",
       "22762  300이상500만원 미만      F  50대         0           10       20    10     20   \n",
       "22763            무응답      M  20대         5            9       43    50      0   \n",
       "22764  500이상700만원 미만      M  50대         5           12       49    40     20   \n",
       "22765  500이상700만원 미만      F  50대         2            0       10    30     40   \n",
       "22766       300만원 미만      F  60대         2            2       14     0     50   \n",
       "\n",
       "       self  relation  etc  \n",
       "0         0        60    0  \n",
       "1         0        30   70  \n",
       "2         0         0    0  \n",
       "3        25        65   10  \n",
       "4        20        30    0  \n",
       "...     ...       ...  ...  \n",
       "22762    30        20   20  \n",
       "22763     0        50    0  \n",
       "22764    15        25    0  \n",
       "22765    10        20    0  \n",
       "22766     0        50    0  \n",
       "\n",
       "[22767 rows x 11 columns]"
      ]
     },
     "execution_count": 5,
     "metadata": {},
     "output_type": "execute_result"
    }
   ],
   "source": [
    "df"
   ]
  },
  {
   "cell_type": "code",
   "execution_count": 6,
   "id": "8f44961d",
   "metadata": {},
   "outputs": [],
   "source": [
    "# 예측할 데이터"
   ]
  },
  {
   "cell_type": "code",
   "execution_count": 7,
   "id": "2c419664",
   "metadata": {},
   "outputs": [],
   "source": [
    "df2 = df[df['income'] == '무응답']"
   ]
  },
  {
   "cell_type": "code",
   "execution_count": 9,
   "id": "e10e7302",
   "metadata": {},
   "outputs": [
    {
     "data": {
      "text/html": [
       "<div>\n",
       "<style scoped>\n",
       "    .dataframe tbody tr th:only-of-type {\n",
       "        vertical-align: middle;\n",
       "    }\n",
       "\n",
       "    .dataframe tbody tr th {\n",
       "        vertical-align: top;\n",
       "    }\n",
       "\n",
       "    .dataframe thead th {\n",
       "        text-align: right;\n",
       "    }\n",
       "</style>\n",
       "<table border=\"1\" class=\"dataframe\">\n",
       "  <thead>\n",
       "    <tr style=\"text-align: right;\">\n",
       "      <th></th>\n",
       "      <th>income</th>\n",
       "      <th>gender</th>\n",
       "      <th>age</th>\n",
       "      <th>lsr_work</th>\n",
       "      <th>lsr_weekend</th>\n",
       "      <th>lsr_tot</th>\n",
       "      <th>rest</th>\n",
       "      <th>hobby</th>\n",
       "      <th>self</th>\n",
       "      <th>relation</th>\n",
       "      <th>etc</th>\n",
       "    </tr>\n",
       "  </thead>\n",
       "  <tbody>\n",
       "    <tr>\n",
       "      <th>54</th>\n",
       "      <td>무응답</td>\n",
       "      <td>F</td>\n",
       "      <td>20대</td>\n",
       "      <td>4</td>\n",
       "      <td>12</td>\n",
       "      <td>44</td>\n",
       "      <td>93</td>\n",
       "      <td>2</td>\n",
       "      <td>0</td>\n",
       "      <td>5</td>\n",
       "      <td>0</td>\n",
       "    </tr>\n",
       "    <tr>\n",
       "      <th>88</th>\n",
       "      <td>무응답</td>\n",
       "      <td>F</td>\n",
       "      <td>50대</td>\n",
       "      <td>3</td>\n",
       "      <td>5</td>\n",
       "      <td>25</td>\n",
       "      <td>40</td>\n",
       "      <td>10</td>\n",
       "      <td>20</td>\n",
       "      <td>30</td>\n",
       "      <td>0</td>\n",
       "    </tr>\n",
       "    <tr>\n",
       "      <th>90</th>\n",
       "      <td>무응답</td>\n",
       "      <td>F</td>\n",
       "      <td>20대</td>\n",
       "      <td>2</td>\n",
       "      <td>8</td>\n",
       "      <td>26</td>\n",
       "      <td>30</td>\n",
       "      <td>0</td>\n",
       "      <td>20</td>\n",
       "      <td>50</td>\n",
       "      <td>0</td>\n",
       "    </tr>\n",
       "    <tr>\n",
       "      <th>116</th>\n",
       "      <td>무응답</td>\n",
       "      <td>F</td>\n",
       "      <td>50대</td>\n",
       "      <td>2</td>\n",
       "      <td>3</td>\n",
       "      <td>16</td>\n",
       "      <td>35</td>\n",
       "      <td>20</td>\n",
       "      <td>10</td>\n",
       "      <td>5</td>\n",
       "      <td>30</td>\n",
       "    </tr>\n",
       "    <tr>\n",
       "      <th>196</th>\n",
       "      <td>무응답</td>\n",
       "      <td>M</td>\n",
       "      <td>30대</td>\n",
       "      <td>8</td>\n",
       "      <td>10</td>\n",
       "      <td>60</td>\n",
       "      <td>35</td>\n",
       "      <td>0</td>\n",
       "      <td>35</td>\n",
       "      <td>30</td>\n",
       "      <td>0</td>\n",
       "    </tr>\n",
       "    <tr>\n",
       "      <th>...</th>\n",
       "      <td>...</td>\n",
       "      <td>...</td>\n",
       "      <td>...</td>\n",
       "      <td>...</td>\n",
       "      <td>...</td>\n",
       "      <td>...</td>\n",
       "      <td>...</td>\n",
       "      <td>...</td>\n",
       "      <td>...</td>\n",
       "      <td>...</td>\n",
       "      <td>...</td>\n",
       "    </tr>\n",
       "    <tr>\n",
       "      <th>22643</th>\n",
       "      <td>무응답</td>\n",
       "      <td>M</td>\n",
       "      <td>20대</td>\n",
       "      <td>6</td>\n",
       "      <td>9</td>\n",
       "      <td>48</td>\n",
       "      <td>69</td>\n",
       "      <td>30</td>\n",
       "      <td>0</td>\n",
       "      <td>1</td>\n",
       "      <td>0</td>\n",
       "    </tr>\n",
       "    <tr>\n",
       "      <th>22672</th>\n",
       "      <td>무응답</td>\n",
       "      <td>F</td>\n",
       "      <td>60대</td>\n",
       "      <td>3</td>\n",
       "      <td>5</td>\n",
       "      <td>25</td>\n",
       "      <td>20</td>\n",
       "      <td>30</td>\n",
       "      <td>20</td>\n",
       "      <td>10</td>\n",
       "      <td>20</td>\n",
       "    </tr>\n",
       "    <tr>\n",
       "      <th>22706</th>\n",
       "      <td>무응답</td>\n",
       "      <td>M</td>\n",
       "      <td>20대</td>\n",
       "      <td>2</td>\n",
       "      <td>10</td>\n",
       "      <td>30</td>\n",
       "      <td>20</td>\n",
       "      <td>10</td>\n",
       "      <td>0</td>\n",
       "      <td>70</td>\n",
       "      <td>0</td>\n",
       "    </tr>\n",
       "    <tr>\n",
       "      <th>22708</th>\n",
       "      <td>무응답</td>\n",
       "      <td>F</td>\n",
       "      <td>20대</td>\n",
       "      <td>3</td>\n",
       "      <td>6</td>\n",
       "      <td>27</td>\n",
       "      <td>30</td>\n",
       "      <td>10</td>\n",
       "      <td>20</td>\n",
       "      <td>40</td>\n",
       "      <td>0</td>\n",
       "    </tr>\n",
       "    <tr>\n",
       "      <th>22763</th>\n",
       "      <td>무응답</td>\n",
       "      <td>M</td>\n",
       "      <td>20대</td>\n",
       "      <td>5</td>\n",
       "      <td>9</td>\n",
       "      <td>43</td>\n",
       "      <td>50</td>\n",
       "      <td>0</td>\n",
       "      <td>0</td>\n",
       "      <td>50</td>\n",
       "      <td>0</td>\n",
       "    </tr>\n",
       "  </tbody>\n",
       "</table>\n",
       "<p>1206 rows × 11 columns</p>\n",
       "</div>"
      ],
      "text/plain": [
       "      income gender  age  lsr_work  lsr_weekend  lsr_tot  rest  hobby  self  \\\n",
       "54       무응답      F  20대         4           12       44    93      2     0   \n",
       "88       무응답      F  50대         3            5       25    40     10    20   \n",
       "90       무응답      F  20대         2            8       26    30      0    20   \n",
       "116      무응답      F  50대         2            3       16    35     20    10   \n",
       "196      무응답      M  30대         8           10       60    35      0    35   \n",
       "...      ...    ...  ...       ...          ...      ...   ...    ...   ...   \n",
       "22643    무응답      M  20대         6            9       48    69     30     0   \n",
       "22672    무응답      F  60대         3            5       25    20     30    20   \n",
       "22706    무응답      M  20대         2           10       30    20     10     0   \n",
       "22708    무응답      F  20대         3            6       27    30     10    20   \n",
       "22763    무응답      M  20대         5            9       43    50      0     0   \n",
       "\n",
       "       relation  etc  \n",
       "54            5    0  \n",
       "88           30    0  \n",
       "90           50    0  \n",
       "116           5   30  \n",
       "196          30    0  \n",
       "...         ...  ...  \n",
       "22643         1    0  \n",
       "22672        10   20  \n",
       "22706        70    0  \n",
       "22708        40    0  \n",
       "22763        50    0  \n",
       "\n",
       "[1206 rows x 11 columns]"
      ]
     },
     "execution_count": 9,
     "metadata": {},
     "output_type": "execute_result"
    }
   ],
   "source": [
    "df2"
   ]
  },
  {
   "cell_type": "code",
   "execution_count": null,
   "id": "4e5b6e16",
   "metadata": {},
   "outputs": [],
   "source": [
    "# train + test 데이터"
   ]
  },
  {
   "cell_type": "code",
   "execution_count": 10,
   "id": "099493b4",
   "metadata": {},
   "outputs": [],
   "source": [
    "df = df[df['income'] != '무응답']"
   ]
  },
  {
   "cell_type": "code",
   "execution_count": 11,
   "id": "831abe0b",
   "metadata": {},
   "outputs": [
    {
     "data": {
      "text/html": [
       "<div>\n",
       "<style scoped>\n",
       "    .dataframe tbody tr th:only-of-type {\n",
       "        vertical-align: middle;\n",
       "    }\n",
       "\n",
       "    .dataframe tbody tr th {\n",
       "        vertical-align: top;\n",
       "    }\n",
       "\n",
       "    .dataframe thead th {\n",
       "        text-align: right;\n",
       "    }\n",
       "</style>\n",
       "<table border=\"1\" class=\"dataframe\">\n",
       "  <thead>\n",
       "    <tr style=\"text-align: right;\">\n",
       "      <th></th>\n",
       "      <th>income</th>\n",
       "      <th>gender</th>\n",
       "      <th>age</th>\n",
       "      <th>lsr_work</th>\n",
       "      <th>lsr_weekend</th>\n",
       "      <th>lsr_tot</th>\n",
       "      <th>rest</th>\n",
       "      <th>hobby</th>\n",
       "      <th>self</th>\n",
       "      <th>relation</th>\n",
       "      <th>etc</th>\n",
       "    </tr>\n",
       "  </thead>\n",
       "  <tbody>\n",
       "    <tr>\n",
       "      <th>0</th>\n",
       "      <td>300이상500만원 미만</td>\n",
       "      <td>F</td>\n",
       "      <td>50대</td>\n",
       "      <td>2</td>\n",
       "      <td>3</td>\n",
       "      <td>16</td>\n",
       "      <td>40</td>\n",
       "      <td>0</td>\n",
       "      <td>0</td>\n",
       "      <td>60</td>\n",
       "      <td>0</td>\n",
       "    </tr>\n",
       "    <tr>\n",
       "      <th>1</th>\n",
       "      <td>300만원 미만</td>\n",
       "      <td>M</td>\n",
       "      <td>60대</td>\n",
       "      <td>3</td>\n",
       "      <td>5</td>\n",
       "      <td>25</td>\n",
       "      <td>0</td>\n",
       "      <td>0</td>\n",
       "      <td>0</td>\n",
       "      <td>30</td>\n",
       "      <td>70</td>\n",
       "    </tr>\n",
       "    <tr>\n",
       "      <th>2</th>\n",
       "      <td>300이상500만원 미만</td>\n",
       "      <td>F</td>\n",
       "      <td>30대</td>\n",
       "      <td>3</td>\n",
       "      <td>12</td>\n",
       "      <td>39</td>\n",
       "      <td>60</td>\n",
       "      <td>40</td>\n",
       "      <td>0</td>\n",
       "      <td>0</td>\n",
       "      <td>0</td>\n",
       "    </tr>\n",
       "    <tr>\n",
       "      <th>3</th>\n",
       "      <td>300만원 미만</td>\n",
       "      <td>M</td>\n",
       "      <td>50대</td>\n",
       "      <td>3</td>\n",
       "      <td>3</td>\n",
       "      <td>21</td>\n",
       "      <td>0</td>\n",
       "      <td>0</td>\n",
       "      <td>25</td>\n",
       "      <td>65</td>\n",
       "      <td>10</td>\n",
       "    </tr>\n",
       "    <tr>\n",
       "      <th>4</th>\n",
       "      <td>500이상700만원 미만</td>\n",
       "      <td>F</td>\n",
       "      <td>30대</td>\n",
       "      <td>3</td>\n",
       "      <td>12</td>\n",
       "      <td>39</td>\n",
       "      <td>50</td>\n",
       "      <td>0</td>\n",
       "      <td>20</td>\n",
       "      <td>30</td>\n",
       "      <td>0</td>\n",
       "    </tr>\n",
       "    <tr>\n",
       "      <th>...</th>\n",
       "      <td>...</td>\n",
       "      <td>...</td>\n",
       "      <td>...</td>\n",
       "      <td>...</td>\n",
       "      <td>...</td>\n",
       "      <td>...</td>\n",
       "      <td>...</td>\n",
       "      <td>...</td>\n",
       "      <td>...</td>\n",
       "      <td>...</td>\n",
       "      <td>...</td>\n",
       "    </tr>\n",
       "    <tr>\n",
       "      <th>22761</th>\n",
       "      <td>300만원 미만</td>\n",
       "      <td>M</td>\n",
       "      <td>40대</td>\n",
       "      <td>2</td>\n",
       "      <td>3</td>\n",
       "      <td>16</td>\n",
       "      <td>40</td>\n",
       "      <td>30</td>\n",
       "      <td>30</td>\n",
       "      <td>0</td>\n",
       "      <td>0</td>\n",
       "    </tr>\n",
       "    <tr>\n",
       "      <th>22762</th>\n",
       "      <td>300이상500만원 미만</td>\n",
       "      <td>F</td>\n",
       "      <td>50대</td>\n",
       "      <td>0</td>\n",
       "      <td>10</td>\n",
       "      <td>20</td>\n",
       "      <td>10</td>\n",
       "      <td>20</td>\n",
       "      <td>30</td>\n",
       "      <td>20</td>\n",
       "      <td>20</td>\n",
       "    </tr>\n",
       "    <tr>\n",
       "      <th>22764</th>\n",
       "      <td>500이상700만원 미만</td>\n",
       "      <td>M</td>\n",
       "      <td>50대</td>\n",
       "      <td>5</td>\n",
       "      <td>12</td>\n",
       "      <td>49</td>\n",
       "      <td>40</td>\n",
       "      <td>20</td>\n",
       "      <td>15</td>\n",
       "      <td>25</td>\n",
       "      <td>0</td>\n",
       "    </tr>\n",
       "    <tr>\n",
       "      <th>22765</th>\n",
       "      <td>500이상700만원 미만</td>\n",
       "      <td>F</td>\n",
       "      <td>50대</td>\n",
       "      <td>2</td>\n",
       "      <td>0</td>\n",
       "      <td>10</td>\n",
       "      <td>30</td>\n",
       "      <td>40</td>\n",
       "      <td>10</td>\n",
       "      <td>20</td>\n",
       "      <td>0</td>\n",
       "    </tr>\n",
       "    <tr>\n",
       "      <th>22766</th>\n",
       "      <td>300만원 미만</td>\n",
       "      <td>F</td>\n",
       "      <td>60대</td>\n",
       "      <td>2</td>\n",
       "      <td>2</td>\n",
       "      <td>14</td>\n",
       "      <td>0</td>\n",
       "      <td>50</td>\n",
       "      <td>0</td>\n",
       "      <td>50</td>\n",
       "      <td>0</td>\n",
       "    </tr>\n",
       "  </tbody>\n",
       "</table>\n",
       "<p>21561 rows × 11 columns</p>\n",
       "</div>"
      ],
      "text/plain": [
       "              income gender  age  lsr_work  lsr_weekend  lsr_tot  rest  hobby  \\\n",
       "0      300이상500만원 미만      F  50대         2            3       16    40      0   \n",
       "1           300만원 미만      M  60대         3            5       25     0      0   \n",
       "2      300이상500만원 미만      F  30대         3           12       39    60     40   \n",
       "3           300만원 미만      M  50대         3            3       21     0      0   \n",
       "4      500이상700만원 미만      F  30대         3           12       39    50      0   \n",
       "...              ...    ...  ...       ...          ...      ...   ...    ...   \n",
       "22761       300만원 미만      M  40대         2            3       16    40     30   \n",
       "22762  300이상500만원 미만      F  50대         0           10       20    10     20   \n",
       "22764  500이상700만원 미만      M  50대         5           12       49    40     20   \n",
       "22765  500이상700만원 미만      F  50대         2            0       10    30     40   \n",
       "22766       300만원 미만      F  60대         2            2       14     0     50   \n",
       "\n",
       "       self  relation  etc  \n",
       "0         0        60    0  \n",
       "1         0        30   70  \n",
       "2         0         0    0  \n",
       "3        25        65   10  \n",
       "4        20        30    0  \n",
       "...     ...       ...  ...  \n",
       "22761    30         0    0  \n",
       "22762    30        20   20  \n",
       "22764    15        25    0  \n",
       "22765    10        20    0  \n",
       "22766     0        50    0  \n",
       "\n",
       "[21561 rows x 11 columns]"
      ]
     },
     "execution_count": 11,
     "metadata": {},
     "output_type": "execute_result"
    }
   ],
   "source": [
    "df"
   ]
  },
  {
   "cell_type": "code",
   "execution_count": 12,
   "id": "72c739de",
   "metadata": {},
   "outputs": [
    {
     "data": {
      "text/plain": [
       "array(['300이상500만원 미만', '300만원 미만', '500이상700만원 미만', '700만원 이상'],\n",
       "      dtype=object)"
      ]
     },
     "execution_count": 12,
     "metadata": {},
     "output_type": "execute_result"
    }
   ],
   "source": [
    "df['income'].unique()"
   ]
  },
  {
   "cell_type": "code",
   "execution_count": 13,
   "id": "ea8a6294",
   "metadata": {},
   "outputs": [],
   "source": [
    "# X, y분리"
   ]
  },
  {
   "cell_type": "code",
   "execution_count": 14,
   "id": "361ffe71",
   "metadata": {},
   "outputs": [],
   "source": [
    "X = df.loc[:, 'gender':'etc']"
   ]
  },
  {
   "cell_type": "code",
   "execution_count": 15,
   "id": "08d0e979",
   "metadata": {},
   "outputs": [
    {
     "data": {
      "text/html": [
       "<div>\n",
       "<style scoped>\n",
       "    .dataframe tbody tr th:only-of-type {\n",
       "        vertical-align: middle;\n",
       "    }\n",
       "\n",
       "    .dataframe tbody tr th {\n",
       "        vertical-align: top;\n",
       "    }\n",
       "\n",
       "    .dataframe thead th {\n",
       "        text-align: right;\n",
       "    }\n",
       "</style>\n",
       "<table border=\"1\" class=\"dataframe\">\n",
       "  <thead>\n",
       "    <tr style=\"text-align: right;\">\n",
       "      <th></th>\n",
       "      <th>gender</th>\n",
       "      <th>age</th>\n",
       "      <th>lsr_work</th>\n",
       "      <th>lsr_weekend</th>\n",
       "      <th>lsr_tot</th>\n",
       "      <th>rest</th>\n",
       "      <th>hobby</th>\n",
       "      <th>self</th>\n",
       "      <th>relation</th>\n",
       "      <th>etc</th>\n",
       "    </tr>\n",
       "  </thead>\n",
       "  <tbody>\n",
       "    <tr>\n",
       "      <th>0</th>\n",
       "      <td>F</td>\n",
       "      <td>50대</td>\n",
       "      <td>2</td>\n",
       "      <td>3</td>\n",
       "      <td>16</td>\n",
       "      <td>40</td>\n",
       "      <td>0</td>\n",
       "      <td>0</td>\n",
       "      <td>60</td>\n",
       "      <td>0</td>\n",
       "    </tr>\n",
       "    <tr>\n",
       "      <th>1</th>\n",
       "      <td>M</td>\n",
       "      <td>60대</td>\n",
       "      <td>3</td>\n",
       "      <td>5</td>\n",
       "      <td>25</td>\n",
       "      <td>0</td>\n",
       "      <td>0</td>\n",
       "      <td>0</td>\n",
       "      <td>30</td>\n",
       "      <td>70</td>\n",
       "    </tr>\n",
       "    <tr>\n",
       "      <th>2</th>\n",
       "      <td>F</td>\n",
       "      <td>30대</td>\n",
       "      <td>3</td>\n",
       "      <td>12</td>\n",
       "      <td>39</td>\n",
       "      <td>60</td>\n",
       "      <td>40</td>\n",
       "      <td>0</td>\n",
       "      <td>0</td>\n",
       "      <td>0</td>\n",
       "    </tr>\n",
       "    <tr>\n",
       "      <th>3</th>\n",
       "      <td>M</td>\n",
       "      <td>50대</td>\n",
       "      <td>3</td>\n",
       "      <td>3</td>\n",
       "      <td>21</td>\n",
       "      <td>0</td>\n",
       "      <td>0</td>\n",
       "      <td>25</td>\n",
       "      <td>65</td>\n",
       "      <td>10</td>\n",
       "    </tr>\n",
       "    <tr>\n",
       "      <th>4</th>\n",
       "      <td>F</td>\n",
       "      <td>30대</td>\n",
       "      <td>3</td>\n",
       "      <td>12</td>\n",
       "      <td>39</td>\n",
       "      <td>50</td>\n",
       "      <td>0</td>\n",
       "      <td>20</td>\n",
       "      <td>30</td>\n",
       "      <td>0</td>\n",
       "    </tr>\n",
       "    <tr>\n",
       "      <th>...</th>\n",
       "      <td>...</td>\n",
       "      <td>...</td>\n",
       "      <td>...</td>\n",
       "      <td>...</td>\n",
       "      <td>...</td>\n",
       "      <td>...</td>\n",
       "      <td>...</td>\n",
       "      <td>...</td>\n",
       "      <td>...</td>\n",
       "      <td>...</td>\n",
       "    </tr>\n",
       "    <tr>\n",
       "      <th>22761</th>\n",
       "      <td>M</td>\n",
       "      <td>40대</td>\n",
       "      <td>2</td>\n",
       "      <td>3</td>\n",
       "      <td>16</td>\n",
       "      <td>40</td>\n",
       "      <td>30</td>\n",
       "      <td>30</td>\n",
       "      <td>0</td>\n",
       "      <td>0</td>\n",
       "    </tr>\n",
       "    <tr>\n",
       "      <th>22762</th>\n",
       "      <td>F</td>\n",
       "      <td>50대</td>\n",
       "      <td>0</td>\n",
       "      <td>10</td>\n",
       "      <td>20</td>\n",
       "      <td>10</td>\n",
       "      <td>20</td>\n",
       "      <td>30</td>\n",
       "      <td>20</td>\n",
       "      <td>20</td>\n",
       "    </tr>\n",
       "    <tr>\n",
       "      <th>22764</th>\n",
       "      <td>M</td>\n",
       "      <td>50대</td>\n",
       "      <td>5</td>\n",
       "      <td>12</td>\n",
       "      <td>49</td>\n",
       "      <td>40</td>\n",
       "      <td>20</td>\n",
       "      <td>15</td>\n",
       "      <td>25</td>\n",
       "      <td>0</td>\n",
       "    </tr>\n",
       "    <tr>\n",
       "      <th>22765</th>\n",
       "      <td>F</td>\n",
       "      <td>50대</td>\n",
       "      <td>2</td>\n",
       "      <td>0</td>\n",
       "      <td>10</td>\n",
       "      <td>30</td>\n",
       "      <td>40</td>\n",
       "      <td>10</td>\n",
       "      <td>20</td>\n",
       "      <td>0</td>\n",
       "    </tr>\n",
       "    <tr>\n",
       "      <th>22766</th>\n",
       "      <td>F</td>\n",
       "      <td>60대</td>\n",
       "      <td>2</td>\n",
       "      <td>2</td>\n",
       "      <td>14</td>\n",
       "      <td>0</td>\n",
       "      <td>50</td>\n",
       "      <td>0</td>\n",
       "      <td>50</td>\n",
       "      <td>0</td>\n",
       "    </tr>\n",
       "  </tbody>\n",
       "</table>\n",
       "<p>21561 rows × 10 columns</p>\n",
       "</div>"
      ],
      "text/plain": [
       "      gender  age  lsr_work  lsr_weekend  lsr_tot  rest  hobby  self  \\\n",
       "0          F  50대         2            3       16    40      0     0   \n",
       "1          M  60대         3            5       25     0      0     0   \n",
       "2          F  30대         3           12       39    60     40     0   \n",
       "3          M  50대         3            3       21     0      0    25   \n",
       "4          F  30대         3           12       39    50      0    20   \n",
       "...      ...  ...       ...          ...      ...   ...    ...   ...   \n",
       "22761      M  40대         2            3       16    40     30    30   \n",
       "22762      F  50대         0           10       20    10     20    30   \n",
       "22764      M  50대         5           12       49    40     20    15   \n",
       "22765      F  50대         2            0       10    30     40    10   \n",
       "22766      F  60대         2            2       14     0     50     0   \n",
       "\n",
       "       relation  etc  \n",
       "0            60    0  \n",
       "1            30   70  \n",
       "2             0    0  \n",
       "3            65   10  \n",
       "4            30    0  \n",
       "...         ...  ...  \n",
       "22761         0    0  \n",
       "22762        20   20  \n",
       "22764        25    0  \n",
       "22765        20    0  \n",
       "22766        50    0  \n",
       "\n",
       "[21561 rows x 10 columns]"
      ]
     },
     "execution_count": 15,
     "metadata": {},
     "output_type": "execute_result"
    }
   ],
   "source": [
    "X"
   ]
  },
  {
   "cell_type": "code",
   "execution_count": 16,
   "id": "67785b66",
   "metadata": {},
   "outputs": [],
   "source": [
    "y = df['income']"
   ]
  },
  {
   "cell_type": "code",
   "execution_count": 17,
   "id": "c1c8f5ef",
   "metadata": {},
   "outputs": [
    {
     "data": {
      "text/plain": [
       "0        300이상500만원 미만\n",
       "1             300만원 미만\n",
       "2        300이상500만원 미만\n",
       "3             300만원 미만\n",
       "4        500이상700만원 미만\n",
       "             ...      \n",
       "22761         300만원 미만\n",
       "22762    300이상500만원 미만\n",
       "22764    500이상700만원 미만\n",
       "22765    500이상700만원 미만\n",
       "22766         300만원 미만\n",
       "Name: income, Length: 21561, dtype: object"
      ]
     },
     "execution_count": 17,
     "metadata": {},
     "output_type": "execute_result"
    }
   ],
   "source": [
    "y"
   ]
  },
  {
   "cell_type": "code",
   "execution_count": 18,
   "id": "daae8c26",
   "metadata": {},
   "outputs": [
    {
     "data": {
      "text/plain": [
       "array(['F', 'M'], dtype=object)"
      ]
     },
     "execution_count": 18,
     "metadata": {},
     "output_type": "execute_result"
    }
   ],
   "source": [
    "X['gender'].unique()"
   ]
  },
  {
   "cell_type": "code",
   "execution_count": 19,
   "id": "e1526e2f",
   "metadata": {},
   "outputs": [
    {
     "data": {
      "text/plain": [
       "array(['50대', '60대', '30대', '40대', '20대'], dtype=object)"
      ]
     },
     "execution_count": 19,
     "metadata": {},
     "output_type": "execute_result"
    }
   ],
   "source": [
    "X['age'].unique()"
   ]
  },
  {
   "cell_type": "code",
   "execution_count": 17,
   "id": "6fd6af59",
   "metadata": {},
   "outputs": [],
   "source": [
    "# one-hot encoding"
   ]
  },
  {
   "cell_type": "code",
   "execution_count": 21,
   "id": "8c12d0e8",
   "metadata": {},
   "outputs": [],
   "source": [
    "from sklearn.preprocessing import OneHotEncoder, LabelEncoder, MinMaxScaler\n",
    "from sklearn.compose import ColumnTransformer"
   ]
  },
  {
   "cell_type": "code",
   "execution_count": 37,
   "id": "532b6d08",
   "metadata": {
    "scrolled": true
   },
   "outputs": [
    {
     "data": {
      "text/html": [
       "<div>\n",
       "<style scoped>\n",
       "    .dataframe tbody tr th:only-of-type {\n",
       "        vertical-align: middle;\n",
       "    }\n",
       "\n",
       "    .dataframe tbody tr th {\n",
       "        vertical-align: top;\n",
       "    }\n",
       "\n",
       "    .dataframe thead th {\n",
       "        text-align: right;\n",
       "    }\n",
       "</style>\n",
       "<table border=\"1\" class=\"dataframe\">\n",
       "  <thead>\n",
       "    <tr style=\"text-align: right;\">\n",
       "      <th></th>\n",
       "      <th>gender</th>\n",
       "      <th>age</th>\n",
       "      <th>lsr_work</th>\n",
       "      <th>lsr_weekend</th>\n",
       "      <th>lsr_tot</th>\n",
       "      <th>rest</th>\n",
       "      <th>hobby</th>\n",
       "      <th>self</th>\n",
       "      <th>relation</th>\n",
       "      <th>etc</th>\n",
       "    </tr>\n",
       "  </thead>\n",
       "  <tbody>\n",
       "    <tr>\n",
       "      <th>0</th>\n",
       "      <td>F</td>\n",
       "      <td>50대</td>\n",
       "      <td>2</td>\n",
       "      <td>3</td>\n",
       "      <td>16</td>\n",
       "      <td>40</td>\n",
       "      <td>0</td>\n",
       "      <td>0</td>\n",
       "      <td>60</td>\n",
       "      <td>0</td>\n",
       "    </tr>\n",
       "    <tr>\n",
       "      <th>1</th>\n",
       "      <td>M</td>\n",
       "      <td>60대</td>\n",
       "      <td>3</td>\n",
       "      <td>5</td>\n",
       "      <td>25</td>\n",
       "      <td>0</td>\n",
       "      <td>0</td>\n",
       "      <td>0</td>\n",
       "      <td>30</td>\n",
       "      <td>70</td>\n",
       "    </tr>\n",
       "    <tr>\n",
       "      <th>2</th>\n",
       "      <td>F</td>\n",
       "      <td>30대</td>\n",
       "      <td>3</td>\n",
       "      <td>12</td>\n",
       "      <td>39</td>\n",
       "      <td>60</td>\n",
       "      <td>40</td>\n",
       "      <td>0</td>\n",
       "      <td>0</td>\n",
       "      <td>0</td>\n",
       "    </tr>\n",
       "    <tr>\n",
       "      <th>3</th>\n",
       "      <td>M</td>\n",
       "      <td>50대</td>\n",
       "      <td>3</td>\n",
       "      <td>3</td>\n",
       "      <td>21</td>\n",
       "      <td>0</td>\n",
       "      <td>0</td>\n",
       "      <td>25</td>\n",
       "      <td>65</td>\n",
       "      <td>10</td>\n",
       "    </tr>\n",
       "    <tr>\n",
       "      <th>4</th>\n",
       "      <td>F</td>\n",
       "      <td>30대</td>\n",
       "      <td>3</td>\n",
       "      <td>12</td>\n",
       "      <td>39</td>\n",
       "      <td>50</td>\n",
       "      <td>0</td>\n",
       "      <td>20</td>\n",
       "      <td>30</td>\n",
       "      <td>0</td>\n",
       "    </tr>\n",
       "    <tr>\n",
       "      <th>...</th>\n",
       "      <td>...</td>\n",
       "      <td>...</td>\n",
       "      <td>...</td>\n",
       "      <td>...</td>\n",
       "      <td>...</td>\n",
       "      <td>...</td>\n",
       "      <td>...</td>\n",
       "      <td>...</td>\n",
       "      <td>...</td>\n",
       "      <td>...</td>\n",
       "    </tr>\n",
       "    <tr>\n",
       "      <th>22761</th>\n",
       "      <td>M</td>\n",
       "      <td>40대</td>\n",
       "      <td>2</td>\n",
       "      <td>3</td>\n",
       "      <td>16</td>\n",
       "      <td>40</td>\n",
       "      <td>30</td>\n",
       "      <td>30</td>\n",
       "      <td>0</td>\n",
       "      <td>0</td>\n",
       "    </tr>\n",
       "    <tr>\n",
       "      <th>22762</th>\n",
       "      <td>F</td>\n",
       "      <td>50대</td>\n",
       "      <td>0</td>\n",
       "      <td>10</td>\n",
       "      <td>20</td>\n",
       "      <td>10</td>\n",
       "      <td>20</td>\n",
       "      <td>30</td>\n",
       "      <td>20</td>\n",
       "      <td>20</td>\n",
       "    </tr>\n",
       "    <tr>\n",
       "      <th>22764</th>\n",
       "      <td>M</td>\n",
       "      <td>50대</td>\n",
       "      <td>5</td>\n",
       "      <td>12</td>\n",
       "      <td>49</td>\n",
       "      <td>40</td>\n",
       "      <td>20</td>\n",
       "      <td>15</td>\n",
       "      <td>25</td>\n",
       "      <td>0</td>\n",
       "    </tr>\n",
       "    <tr>\n",
       "      <th>22765</th>\n",
       "      <td>F</td>\n",
       "      <td>50대</td>\n",
       "      <td>2</td>\n",
       "      <td>0</td>\n",
       "      <td>10</td>\n",
       "      <td>30</td>\n",
       "      <td>40</td>\n",
       "      <td>10</td>\n",
       "      <td>20</td>\n",
       "      <td>0</td>\n",
       "    </tr>\n",
       "    <tr>\n",
       "      <th>22766</th>\n",
       "      <td>F</td>\n",
       "      <td>60대</td>\n",
       "      <td>2</td>\n",
       "      <td>2</td>\n",
       "      <td>14</td>\n",
       "      <td>0</td>\n",
       "      <td>50</td>\n",
       "      <td>0</td>\n",
       "      <td>50</td>\n",
       "      <td>0</td>\n",
       "    </tr>\n",
       "  </tbody>\n",
       "</table>\n",
       "<p>21561 rows × 10 columns</p>\n",
       "</div>"
      ],
      "text/plain": [
       "      gender  age  lsr_work  lsr_weekend  lsr_tot  rest  hobby  self  \\\n",
       "0          F  50대         2            3       16    40      0     0   \n",
       "1          M  60대         3            5       25     0      0     0   \n",
       "2          F  30대         3           12       39    60     40     0   \n",
       "3          M  50대         3            3       21     0      0    25   \n",
       "4          F  30대         3           12       39    50      0    20   \n",
       "...      ...  ...       ...          ...      ...   ...    ...   ...   \n",
       "22761      M  40대         2            3       16    40     30    30   \n",
       "22762      F  50대         0           10       20    10     20    30   \n",
       "22764      M  50대         5           12       49    40     20    15   \n",
       "22765      F  50대         2            0       10    30     40    10   \n",
       "22766      F  60대         2            2       14     0     50     0   \n",
       "\n",
       "       relation  etc  \n",
       "0            60    0  \n",
       "1            30   70  \n",
       "2             0    0  \n",
       "3            65   10  \n",
       "4            30    0  \n",
       "...         ...  ...  \n",
       "22761         0    0  \n",
       "22762        20   20  \n",
       "22764        25    0  \n",
       "22765        20    0  \n",
       "22766        50    0  \n",
       "\n",
       "[21561 rows x 10 columns]"
      ]
     },
     "execution_count": 37,
     "metadata": {},
     "output_type": "execute_result"
    }
   ],
   "source": [
    "X"
   ]
  },
  {
   "cell_type": "code",
   "execution_count": 29,
   "id": "e54ca845",
   "metadata": {
    "scrolled": true
   },
   "outputs": [
    {
     "name": "stdout",
     "output_type": "stream",
     "text": [
      "<class 'pandas.core.frame.DataFrame'>\n",
      "Int64Index: 21561 entries, 0 to 22766\n",
      "Data columns (total 10 columns):\n",
      " #   Column       Non-Null Count  Dtype \n",
      "---  ------       --------------  ----- \n",
      " 0   gender       21561 non-null  object\n",
      " 1   age          21561 non-null  object\n",
      " 2   lsr_work     21561 non-null  int64 \n",
      " 3   lsr_weekend  21561 non-null  int64 \n",
      " 4   lsr_tot      21561 non-null  int64 \n",
      " 5   rest         21561 non-null  int64 \n",
      " 6   hobby        21561 non-null  int64 \n",
      " 7   self         21561 non-null  int64 \n",
      " 8   relation     21561 non-null  int64 \n",
      " 9   etc          21561 non-null  int64 \n",
      "dtypes: int64(8), object(2)\n",
      "memory usage: 1.8+ MB\n"
     ]
    }
   ],
   "source": [
    "X.info()"
   ]
  },
  {
   "cell_type": "code",
   "execution_count": null,
   "id": "a9ad7843",
   "metadata": {},
   "outputs": [],
   "source": []
  },
  {
   "cell_type": "code",
   "execution_count": 39,
   "id": "e736f05c",
   "metadata": {},
   "outputs": [],
   "source": [
    "ct = ColumnTransformer( [ ('encoder', OneHotEncoder(), [0, 1]) ],\n",
    "                      # [(   이름,    트랜스포머,    컬럼 ) ]                 \n",
    "                       remainder= 'passthrough')\n",
    "        "
   ]
  },
  {
   "cell_type": "code",
   "execution_count": 40,
   "id": "bdf8d842",
   "metadata": {},
   "outputs": [],
   "source": [
    "X = ct.fit_transform(X)"
   ]
  },
  {
   "cell_type": "code",
   "execution_count": 41,
   "id": "53f1b91e",
   "metadata": {},
   "outputs": [
    {
     "data": {
      "text/plain": [
       "(21561, 15)"
      ]
     },
     "execution_count": 41,
     "metadata": {},
     "output_type": "execute_result"
    }
   ],
   "source": [
    "X.shape"
   ]
  },
  {
   "cell_type": "code",
   "execution_count": 42,
   "id": "8fba0c7c",
   "metadata": {
    "scrolled": true
   },
   "outputs": [
    {
     "data": {
      "text/plain": [
       "array([ 0.,  1.,  0.,  0.,  0.,  1.,  0.,  3.,  3., 21.,  0.,  0., 25.,\n",
       "       65., 10.])"
      ]
     },
     "execution_count": 42,
     "metadata": {},
     "output_type": "execute_result"
    }
   ],
   "source": [
    "X[3]"
   ]
  },
  {
   "cell_type": "code",
   "execution_count": 43,
   "id": "549325f5",
   "metadata": {},
   "outputs": [],
   "source": [
    "X_scaler = MinMaxScaler()"
   ]
  },
  {
   "cell_type": "code",
   "execution_count": 44,
   "id": "31ca3ad5",
   "metadata": {},
   "outputs": [],
   "source": [
    "X = X_scaler.fit_transform(X)"
   ]
  },
  {
   "cell_type": "code",
   "execution_count": 45,
   "id": "9429a4aa",
   "metadata": {},
   "outputs": [
    {
     "data": {
      "text/plain": [
       "array([[1.  , 0.  , 0.  , ..., 0.  , 0.6 , 0.  ],\n",
       "       [0.  , 1.  , 0.  , ..., 0.  , 0.3 , 0.7 ],\n",
       "       [1.  , 0.  , 0.  , ..., 0.  , 0.  , 0.  ],\n",
       "       ...,\n",
       "       [0.  , 1.  , 0.  , ..., 0.15, 0.25, 0.  ],\n",
       "       [1.  , 0.  , 0.  , ..., 0.1 , 0.2 , 0.  ],\n",
       "       [1.  , 0.  , 0.  , ..., 0.  , 0.5 , 0.  ]])"
      ]
     },
     "execution_count": 45,
     "metadata": {},
     "output_type": "execute_result"
    }
   ],
   "source": [
    "X"
   ]
  },
  {
   "cell_type": "code",
   "execution_count": 62,
   "id": "e17c8912",
   "metadata": {},
   "outputs": [
    {
     "data": {
      "text/plain": [
       "(21561, 15)"
      ]
     },
     "execution_count": 62,
     "metadata": {},
     "output_type": "execute_result"
    }
   ],
   "source": [
    "X.shape"
   ]
  },
  {
   "cell_type": "code",
   "execution_count": 46,
   "id": "0618697d",
   "metadata": {},
   "outputs": [],
   "source": [
    "y_encoder = LabelEncoder()"
   ]
  },
  {
   "cell_type": "code",
   "execution_count": 47,
   "id": "f7402549",
   "metadata": {},
   "outputs": [],
   "source": [
    "y = y_encoder.fit_transform(y)"
   ]
  },
  {
   "cell_type": "code",
   "execution_count": 51,
   "id": "0e520cd9",
   "metadata": {},
   "outputs": [
    {
     "data": {
      "text/plain": [
       "array([1, 0, 1, ..., 2, 2, 0])"
      ]
     },
     "execution_count": 51,
     "metadata": {},
     "output_type": "execute_result"
    }
   ],
   "source": [
    "y"
   ]
  },
  {
   "cell_type": "code",
   "execution_count": 52,
   "id": "8579f043",
   "metadata": {},
   "outputs": [
    {
     "data": {
      "text/plain": [
       "(21561,)"
      ]
     },
     "execution_count": 52,
     "metadata": {},
     "output_type": "execute_result"
    }
   ],
   "source": [
    "y.shape"
   ]
  },
  {
   "cell_type": "code",
   "execution_count": null,
   "id": "2acef4ea",
   "metadata": {},
   "outputs": [],
   "source": [
    "# 트레인테스트분리"
   ]
  },
  {
   "cell_type": "code",
   "execution_count": 53,
   "id": "89f265c3",
   "metadata": {},
   "outputs": [],
   "source": [
    "from sklearn.model_selection import train_test_split"
   ]
  },
  {
   "cell_type": "code",
   "execution_count": 54,
   "id": "baaecea0",
   "metadata": {},
   "outputs": [],
   "source": [
    "X_train, X_test, y_train, y_test = train_test_split(X, y, test_size=0.25)"
   ]
  },
  {
   "cell_type": "code",
   "execution_count": 55,
   "id": "60ea2830",
   "metadata": {},
   "outputs": [
    {
     "data": {
      "text/plain": [
       "(16170, 15)"
      ]
     },
     "execution_count": 55,
     "metadata": {},
     "output_type": "execute_result"
    }
   ],
   "source": [
    "X_train.shape"
   ]
  },
  {
   "cell_type": "code",
   "execution_count": 56,
   "id": "ecd7bcb6",
   "metadata": {},
   "outputs": [
    {
     "data": {
      "text/plain": [
       "(5391, 15)"
      ]
     },
     "execution_count": 56,
     "metadata": {},
     "output_type": "execute_result"
    }
   ],
   "source": [
    "X_test.shape"
   ]
  },
  {
   "cell_type": "code",
   "execution_count": 57,
   "id": "cf20016b",
   "metadata": {},
   "outputs": [
    {
     "data": {
      "text/plain": [
       "(16170,)"
      ]
     },
     "execution_count": 57,
     "metadata": {},
     "output_type": "execute_result"
    }
   ],
   "source": [
    "y_train.shape"
   ]
  },
  {
   "cell_type": "code",
   "execution_count": 58,
   "id": "a71830b7",
   "metadata": {},
   "outputs": [
    {
     "data": {
      "text/plain": [
       "(5391,)"
      ]
     },
     "execution_count": 58,
     "metadata": {},
     "output_type": "execute_result"
    }
   ],
   "source": [
    "y_test.shape"
   ]
  },
  {
   "cell_type": "code",
   "execution_count": null,
   "id": "e968e0d4",
   "metadata": {},
   "outputs": [],
   "source": [
    "# 모델링"
   ]
  },
  {
   "cell_type": "code",
   "execution_count": 59,
   "id": "7d783cfb",
   "metadata": {},
   "outputs": [],
   "source": [
    "from sklearn.tree import DecisionTreeClassifier"
   ]
  },
  {
   "cell_type": "code",
   "execution_count": 60,
   "id": "04106dae",
   "metadata": {},
   "outputs": [],
   "source": [
    "classifier = DecisionTreeClassifier()"
   ]
  },
  {
   "cell_type": "code",
   "execution_count": 61,
   "id": "b268ee0b",
   "metadata": {},
   "outputs": [
    {
     "data": {
      "text/html": [
       "<style>#sk-container-id-1 {color: black;background-color: white;}#sk-container-id-1 pre{padding: 0;}#sk-container-id-1 div.sk-toggleable {background-color: white;}#sk-container-id-1 label.sk-toggleable__label {cursor: pointer;display: block;width: 100%;margin-bottom: 0;padding: 0.3em;box-sizing: border-box;text-align: center;}#sk-container-id-1 label.sk-toggleable__label-arrow:before {content: \"▸\";float: left;margin-right: 0.25em;color: #696969;}#sk-container-id-1 label.sk-toggleable__label-arrow:hover:before {color: black;}#sk-container-id-1 div.sk-estimator:hover label.sk-toggleable__label-arrow:before {color: black;}#sk-container-id-1 div.sk-toggleable__content {max-height: 0;max-width: 0;overflow: hidden;text-align: left;background-color: #f0f8ff;}#sk-container-id-1 div.sk-toggleable__content pre {margin: 0.2em;color: black;border-radius: 0.25em;background-color: #f0f8ff;}#sk-container-id-1 input.sk-toggleable__control:checked~div.sk-toggleable__content {max-height: 200px;max-width: 100%;overflow: auto;}#sk-container-id-1 input.sk-toggleable__control:checked~label.sk-toggleable__label-arrow:before {content: \"▾\";}#sk-container-id-1 div.sk-estimator input.sk-toggleable__control:checked~label.sk-toggleable__label {background-color: #d4ebff;}#sk-container-id-1 div.sk-label input.sk-toggleable__control:checked~label.sk-toggleable__label {background-color: #d4ebff;}#sk-container-id-1 input.sk-hidden--visually {border: 0;clip: rect(1px 1px 1px 1px);clip: rect(1px, 1px, 1px, 1px);height: 1px;margin: -1px;overflow: hidden;padding: 0;position: absolute;width: 1px;}#sk-container-id-1 div.sk-estimator {font-family: monospace;background-color: #f0f8ff;border: 1px dotted black;border-radius: 0.25em;box-sizing: border-box;margin-bottom: 0.5em;}#sk-container-id-1 div.sk-estimator:hover {background-color: #d4ebff;}#sk-container-id-1 div.sk-parallel-item::after {content: \"\";width: 100%;border-bottom: 1px solid gray;flex-grow: 1;}#sk-container-id-1 div.sk-label:hover label.sk-toggleable__label {background-color: #d4ebff;}#sk-container-id-1 div.sk-serial::before {content: \"\";position: absolute;border-left: 1px solid gray;box-sizing: border-box;top: 0;bottom: 0;left: 50%;z-index: 0;}#sk-container-id-1 div.sk-serial {display: flex;flex-direction: column;align-items: center;background-color: white;padding-right: 0.2em;padding-left: 0.2em;position: relative;}#sk-container-id-1 div.sk-item {position: relative;z-index: 1;}#sk-container-id-1 div.sk-parallel {display: flex;align-items: stretch;justify-content: center;background-color: white;position: relative;}#sk-container-id-1 div.sk-item::before, #sk-container-id-1 div.sk-parallel-item::before {content: \"\";position: absolute;border-left: 1px solid gray;box-sizing: border-box;top: 0;bottom: 0;left: 50%;z-index: -1;}#sk-container-id-1 div.sk-parallel-item {display: flex;flex-direction: column;z-index: 1;position: relative;background-color: white;}#sk-container-id-1 div.sk-parallel-item:first-child::after {align-self: flex-end;width: 50%;}#sk-container-id-1 div.sk-parallel-item:last-child::after {align-self: flex-start;width: 50%;}#sk-container-id-1 div.sk-parallel-item:only-child::after {width: 0;}#sk-container-id-1 div.sk-dashed-wrapped {border: 1px dashed gray;margin: 0 0.4em 0.5em 0.4em;box-sizing: border-box;padding-bottom: 0.4em;background-color: white;}#sk-container-id-1 div.sk-label label {font-family: monospace;font-weight: bold;display: inline-block;line-height: 1.2em;}#sk-container-id-1 div.sk-label-container {text-align: center;}#sk-container-id-1 div.sk-container {/* jupyter's `normalize.less` sets `[hidden] { display: none; }` but bootstrap.min.css set `[hidden] { display: none !important; }` so we also need the `!important` here to be able to override the default hidden behavior on the sphinx rendered scikit-learn.org. See: https://github.com/scikit-learn/scikit-learn/issues/21755 */display: inline-block !important;position: relative;}#sk-container-id-1 div.sk-text-repr-fallback {display: none;}</style><div id=\"sk-container-id-1\" class=\"sk-top-container\"><div class=\"sk-text-repr-fallback\"><pre>DecisionTreeClassifier()</pre><b>In a Jupyter environment, please rerun this cell to show the HTML representation or trust the notebook. <br />On GitHub, the HTML representation is unable to render, please try loading this page with nbviewer.org.</b></div><div class=\"sk-container\" hidden><div class=\"sk-item\"><div class=\"sk-estimator sk-toggleable\"><input class=\"sk-toggleable__control sk-hidden--visually\" id=\"sk-estimator-id-1\" type=\"checkbox\" checked><label for=\"sk-estimator-id-1\" class=\"sk-toggleable__label sk-toggleable__label-arrow\">DecisionTreeClassifier</label><div class=\"sk-toggleable__content\"><pre>DecisionTreeClassifier()</pre></div></div></div></div></div>"
      ],
      "text/plain": [
       "DecisionTreeClassifier()"
      ]
     },
     "execution_count": 61,
     "metadata": {},
     "output_type": "execute_result"
    }
   ],
   "source": [
    "classifier.fit(X_train, y_train)"
   ]
  },
  {
   "cell_type": "code",
   "execution_count": 63,
   "id": "2da6fbc4",
   "metadata": {},
   "outputs": [],
   "source": [
    "y_pred = classifier.predict(X_test)"
   ]
  },
  {
   "cell_type": "code",
   "execution_count": 64,
   "id": "fd468a75",
   "metadata": {},
   "outputs": [
    {
     "data": {
      "text/plain": [
       "array([3, 3, 3, ..., 2, 0, 3])"
      ]
     },
     "execution_count": 64,
     "metadata": {},
     "output_type": "execute_result"
    }
   ],
   "source": [
    "y_pred"
   ]
  },
  {
   "cell_type": "code",
   "execution_count": 65,
   "id": "efa0e0d0",
   "metadata": {},
   "outputs": [
    {
     "data": {
      "text/plain": [
       "array([3, 3, 1, ..., 2, 2, 0])"
      ]
     },
     "execution_count": 65,
     "metadata": {},
     "output_type": "execute_result"
    }
   ],
   "source": [
    "y_test"
   ]
  },
  {
   "cell_type": "code",
   "execution_count": 66,
   "id": "68fd6515",
   "metadata": {},
   "outputs": [],
   "source": [
    "from sklearn.metrics import confusion_matrix, accuracy_score"
   ]
  },
  {
   "cell_type": "code",
   "execution_count": 67,
   "id": "b79b9df7",
   "metadata": {},
   "outputs": [
    {
     "data": {
      "text/plain": [
       "array([[472, 467, 264, 248],\n",
       "       [482, 568, 334, 323],\n",
       "       [268, 361, 236, 231],\n",
       "       [319, 365, 224, 229]], dtype=int64)"
      ]
     },
     "execution_count": 67,
     "metadata": {},
     "output_type": "execute_result"
    }
   ],
   "source": [
    "confusion_matrix(y_test, y_pred)"
   ]
  },
  {
   "cell_type": "code",
   "execution_count": 68,
   "id": "1c6ac887",
   "metadata": {},
   "outputs": [
    {
     "data": {
      "text/plain": [
       "0.279168985345947"
      ]
     },
     "execution_count": 68,
     "metadata": {},
     "output_type": "execute_result"
    }
   ],
   "source": [
    "accuracy_score(y_test, y_pred)"
   ]
  },
  {
   "cell_type": "code",
   "execution_count": 69,
   "id": "d2ef9060",
   "metadata": {},
   "outputs": [
    {
     "data": {
      "text/plain": [
       "(5391,)"
      ]
     },
     "execution_count": 69,
     "metadata": {},
     "output_type": "execute_result"
    }
   ],
   "source": [
    "y_pred.shape"
   ]
  },
  {
   "cell_type": "code",
   "execution_count": 70,
   "id": "38a0b8e1",
   "metadata": {},
   "outputs": [
    {
     "data": {
      "text/plain": [
       "(5391,)"
      ]
     },
     "execution_count": 70,
     "metadata": {},
     "output_type": "execute_result"
    }
   ],
   "source": [
    "y_test.shape"
   ]
  },
  {
   "cell_type": "code",
   "execution_count": null,
   "id": "25b87a86",
   "metadata": {},
   "outputs": [],
   "source": [
    "# LogisticRegression"
   ]
  },
  {
   "cell_type": "code",
   "execution_count": 71,
   "id": "49db5eb8",
   "metadata": {},
   "outputs": [],
   "source": [
    "from sklearn.linear_model import LogisticRegression"
   ]
  },
  {
   "cell_type": "code",
   "execution_count": 72,
   "id": "a9a5a15b",
   "metadata": {},
   "outputs": [],
   "source": [
    "classifier2 = LogisticRegression(random_state=1)"
   ]
  },
  {
   "cell_type": "code",
   "execution_count": 73,
   "id": "0e210ab6",
   "metadata": {},
   "outputs": [
    {
     "data": {
      "text/html": [
       "<style>#sk-container-id-2 {color: black;background-color: white;}#sk-container-id-2 pre{padding: 0;}#sk-container-id-2 div.sk-toggleable {background-color: white;}#sk-container-id-2 label.sk-toggleable__label {cursor: pointer;display: block;width: 100%;margin-bottom: 0;padding: 0.3em;box-sizing: border-box;text-align: center;}#sk-container-id-2 label.sk-toggleable__label-arrow:before {content: \"▸\";float: left;margin-right: 0.25em;color: #696969;}#sk-container-id-2 label.sk-toggleable__label-arrow:hover:before {color: black;}#sk-container-id-2 div.sk-estimator:hover label.sk-toggleable__label-arrow:before {color: black;}#sk-container-id-2 div.sk-toggleable__content {max-height: 0;max-width: 0;overflow: hidden;text-align: left;background-color: #f0f8ff;}#sk-container-id-2 div.sk-toggleable__content pre {margin: 0.2em;color: black;border-radius: 0.25em;background-color: #f0f8ff;}#sk-container-id-2 input.sk-toggleable__control:checked~div.sk-toggleable__content {max-height: 200px;max-width: 100%;overflow: auto;}#sk-container-id-2 input.sk-toggleable__control:checked~label.sk-toggleable__label-arrow:before {content: \"▾\";}#sk-container-id-2 div.sk-estimator input.sk-toggleable__control:checked~label.sk-toggleable__label {background-color: #d4ebff;}#sk-container-id-2 div.sk-label input.sk-toggleable__control:checked~label.sk-toggleable__label {background-color: #d4ebff;}#sk-container-id-2 input.sk-hidden--visually {border: 0;clip: rect(1px 1px 1px 1px);clip: rect(1px, 1px, 1px, 1px);height: 1px;margin: -1px;overflow: hidden;padding: 0;position: absolute;width: 1px;}#sk-container-id-2 div.sk-estimator {font-family: monospace;background-color: #f0f8ff;border: 1px dotted black;border-radius: 0.25em;box-sizing: border-box;margin-bottom: 0.5em;}#sk-container-id-2 div.sk-estimator:hover {background-color: #d4ebff;}#sk-container-id-2 div.sk-parallel-item::after {content: \"\";width: 100%;border-bottom: 1px solid gray;flex-grow: 1;}#sk-container-id-2 div.sk-label:hover label.sk-toggleable__label {background-color: #d4ebff;}#sk-container-id-2 div.sk-serial::before {content: \"\";position: absolute;border-left: 1px solid gray;box-sizing: border-box;top: 0;bottom: 0;left: 50%;z-index: 0;}#sk-container-id-2 div.sk-serial {display: flex;flex-direction: column;align-items: center;background-color: white;padding-right: 0.2em;padding-left: 0.2em;position: relative;}#sk-container-id-2 div.sk-item {position: relative;z-index: 1;}#sk-container-id-2 div.sk-parallel {display: flex;align-items: stretch;justify-content: center;background-color: white;position: relative;}#sk-container-id-2 div.sk-item::before, #sk-container-id-2 div.sk-parallel-item::before {content: \"\";position: absolute;border-left: 1px solid gray;box-sizing: border-box;top: 0;bottom: 0;left: 50%;z-index: -1;}#sk-container-id-2 div.sk-parallel-item {display: flex;flex-direction: column;z-index: 1;position: relative;background-color: white;}#sk-container-id-2 div.sk-parallel-item:first-child::after {align-self: flex-end;width: 50%;}#sk-container-id-2 div.sk-parallel-item:last-child::after {align-self: flex-start;width: 50%;}#sk-container-id-2 div.sk-parallel-item:only-child::after {width: 0;}#sk-container-id-2 div.sk-dashed-wrapped {border: 1px dashed gray;margin: 0 0.4em 0.5em 0.4em;box-sizing: border-box;padding-bottom: 0.4em;background-color: white;}#sk-container-id-2 div.sk-label label {font-family: monospace;font-weight: bold;display: inline-block;line-height: 1.2em;}#sk-container-id-2 div.sk-label-container {text-align: center;}#sk-container-id-2 div.sk-container {/* jupyter's `normalize.less` sets `[hidden] { display: none; }` but bootstrap.min.css set `[hidden] { display: none !important; }` so we also need the `!important` here to be able to override the default hidden behavior on the sphinx rendered scikit-learn.org. See: https://github.com/scikit-learn/scikit-learn/issues/21755 */display: inline-block !important;position: relative;}#sk-container-id-2 div.sk-text-repr-fallback {display: none;}</style><div id=\"sk-container-id-2\" class=\"sk-top-container\"><div class=\"sk-text-repr-fallback\"><pre>LogisticRegression(random_state=1)</pre><b>In a Jupyter environment, please rerun this cell to show the HTML representation or trust the notebook. <br />On GitHub, the HTML representation is unable to render, please try loading this page with nbviewer.org.</b></div><div class=\"sk-container\" hidden><div class=\"sk-item\"><div class=\"sk-estimator sk-toggleable\"><input class=\"sk-toggleable__control sk-hidden--visually\" id=\"sk-estimator-id-2\" type=\"checkbox\" checked><label for=\"sk-estimator-id-2\" class=\"sk-toggleable__label sk-toggleable__label-arrow\">LogisticRegression</label><div class=\"sk-toggleable__content\"><pre>LogisticRegression(random_state=1)</pre></div></div></div></div></div>"
      ],
      "text/plain": [
       "LogisticRegression(random_state=1)"
      ]
     },
     "execution_count": 73,
     "metadata": {},
     "output_type": "execute_result"
    }
   ],
   "source": [
    "classifier2.fit(X_train, y_train)"
   ]
  },
  {
   "cell_type": "code",
   "execution_count": 74,
   "id": "13badc55",
   "metadata": {},
   "outputs": [],
   "source": [
    "y_pred = classifier2.predict(X_test)"
   ]
  },
  {
   "cell_type": "code",
   "execution_count": 75,
   "id": "f0f35d1b",
   "metadata": {},
   "outputs": [
    {
     "data": {
      "text/plain": [
       "0.33926915229085514"
      ]
     },
     "execution_count": 75,
     "metadata": {},
     "output_type": "execute_result"
    }
   ],
   "source": [
    "accuracy_score(y_test, y_pred)"
   ]
  },
  {
   "cell_type": "code",
   "execution_count": null,
   "id": "660ddfb2",
   "metadata": {},
   "outputs": [],
   "source": [
    "# 서포트벡터머신"
   ]
  },
  {
   "cell_type": "code",
   "execution_count": 76,
   "id": "98efff72",
   "metadata": {},
   "outputs": [],
   "source": [
    "from sklearn.svm import SVC"
   ]
  },
  {
   "cell_type": "code",
   "execution_count": 77,
   "id": "cc891f92",
   "metadata": {},
   "outputs": [],
   "source": [
    "classifier3 = SVC(kernel='rbf', random_state=1)"
   ]
  },
  {
   "cell_type": "code",
   "execution_count": 78,
   "id": "81f31ae6",
   "metadata": {},
   "outputs": [
    {
     "data": {
      "text/html": [
       "<style>#sk-container-id-3 {color: black;background-color: white;}#sk-container-id-3 pre{padding: 0;}#sk-container-id-3 div.sk-toggleable {background-color: white;}#sk-container-id-3 label.sk-toggleable__label {cursor: pointer;display: block;width: 100%;margin-bottom: 0;padding: 0.3em;box-sizing: border-box;text-align: center;}#sk-container-id-3 label.sk-toggleable__label-arrow:before {content: \"▸\";float: left;margin-right: 0.25em;color: #696969;}#sk-container-id-3 label.sk-toggleable__label-arrow:hover:before {color: black;}#sk-container-id-3 div.sk-estimator:hover label.sk-toggleable__label-arrow:before {color: black;}#sk-container-id-3 div.sk-toggleable__content {max-height: 0;max-width: 0;overflow: hidden;text-align: left;background-color: #f0f8ff;}#sk-container-id-3 div.sk-toggleable__content pre {margin: 0.2em;color: black;border-radius: 0.25em;background-color: #f0f8ff;}#sk-container-id-3 input.sk-toggleable__control:checked~div.sk-toggleable__content {max-height: 200px;max-width: 100%;overflow: auto;}#sk-container-id-3 input.sk-toggleable__control:checked~label.sk-toggleable__label-arrow:before {content: \"▾\";}#sk-container-id-3 div.sk-estimator input.sk-toggleable__control:checked~label.sk-toggleable__label {background-color: #d4ebff;}#sk-container-id-3 div.sk-label input.sk-toggleable__control:checked~label.sk-toggleable__label {background-color: #d4ebff;}#sk-container-id-3 input.sk-hidden--visually {border: 0;clip: rect(1px 1px 1px 1px);clip: rect(1px, 1px, 1px, 1px);height: 1px;margin: -1px;overflow: hidden;padding: 0;position: absolute;width: 1px;}#sk-container-id-3 div.sk-estimator {font-family: monospace;background-color: #f0f8ff;border: 1px dotted black;border-radius: 0.25em;box-sizing: border-box;margin-bottom: 0.5em;}#sk-container-id-3 div.sk-estimator:hover {background-color: #d4ebff;}#sk-container-id-3 div.sk-parallel-item::after {content: \"\";width: 100%;border-bottom: 1px solid gray;flex-grow: 1;}#sk-container-id-3 div.sk-label:hover label.sk-toggleable__label {background-color: #d4ebff;}#sk-container-id-3 div.sk-serial::before {content: \"\";position: absolute;border-left: 1px solid gray;box-sizing: border-box;top: 0;bottom: 0;left: 50%;z-index: 0;}#sk-container-id-3 div.sk-serial {display: flex;flex-direction: column;align-items: center;background-color: white;padding-right: 0.2em;padding-left: 0.2em;position: relative;}#sk-container-id-3 div.sk-item {position: relative;z-index: 1;}#sk-container-id-3 div.sk-parallel {display: flex;align-items: stretch;justify-content: center;background-color: white;position: relative;}#sk-container-id-3 div.sk-item::before, #sk-container-id-3 div.sk-parallel-item::before {content: \"\";position: absolute;border-left: 1px solid gray;box-sizing: border-box;top: 0;bottom: 0;left: 50%;z-index: -1;}#sk-container-id-3 div.sk-parallel-item {display: flex;flex-direction: column;z-index: 1;position: relative;background-color: white;}#sk-container-id-3 div.sk-parallel-item:first-child::after {align-self: flex-end;width: 50%;}#sk-container-id-3 div.sk-parallel-item:last-child::after {align-self: flex-start;width: 50%;}#sk-container-id-3 div.sk-parallel-item:only-child::after {width: 0;}#sk-container-id-3 div.sk-dashed-wrapped {border: 1px dashed gray;margin: 0 0.4em 0.5em 0.4em;box-sizing: border-box;padding-bottom: 0.4em;background-color: white;}#sk-container-id-3 div.sk-label label {font-family: monospace;font-weight: bold;display: inline-block;line-height: 1.2em;}#sk-container-id-3 div.sk-label-container {text-align: center;}#sk-container-id-3 div.sk-container {/* jupyter's `normalize.less` sets `[hidden] { display: none; }` but bootstrap.min.css set `[hidden] { display: none !important; }` so we also need the `!important` here to be able to override the default hidden behavior on the sphinx rendered scikit-learn.org. See: https://github.com/scikit-learn/scikit-learn/issues/21755 */display: inline-block !important;position: relative;}#sk-container-id-3 div.sk-text-repr-fallback {display: none;}</style><div id=\"sk-container-id-3\" class=\"sk-top-container\"><div class=\"sk-text-repr-fallback\"><pre>SVC(random_state=1)</pre><b>In a Jupyter environment, please rerun this cell to show the HTML representation or trust the notebook. <br />On GitHub, the HTML representation is unable to render, please try loading this page with nbviewer.org.</b></div><div class=\"sk-container\" hidden><div class=\"sk-item\"><div class=\"sk-estimator sk-toggleable\"><input class=\"sk-toggleable__control sk-hidden--visually\" id=\"sk-estimator-id-3\" type=\"checkbox\" checked><label for=\"sk-estimator-id-3\" class=\"sk-toggleable__label sk-toggleable__label-arrow\">SVC</label><div class=\"sk-toggleable__content\"><pre>SVC(random_state=1)</pre></div></div></div></div></div>"
      ],
      "text/plain": [
       "SVC(random_state=1)"
      ]
     },
     "execution_count": 78,
     "metadata": {},
     "output_type": "execute_result"
    }
   ],
   "source": [
    "classifier3.fit(X_train, y_train)"
   ]
  },
  {
   "cell_type": "code",
   "execution_count": 79,
   "id": "0f4831ff",
   "metadata": {},
   "outputs": [],
   "source": [
    "y_pred = classifier3.predict(X_test)"
   ]
  },
  {
   "cell_type": "code",
   "execution_count": 80,
   "id": "148b5164",
   "metadata": {},
   "outputs": [
    {
     "data": {
      "text/plain": [
       "array([[ 499,  827,    0,  125],\n",
       "       [ 393, 1149,    0,  165],\n",
       "       [ 196,  738,    0,  162],\n",
       "       [ 249,  672,    0,  216]], dtype=int64)"
      ]
     },
     "execution_count": 80,
     "metadata": {},
     "output_type": "execute_result"
    }
   ],
   "source": [
    "confusion_matrix(y_test, y_pred)"
   ]
  },
  {
   "cell_type": "code",
   "execution_count": 81,
   "id": "6229beeb",
   "metadata": {},
   "outputs": [
    {
     "data": {
      "text/plain": [
       "0.3457614542756446"
      ]
     },
     "execution_count": 81,
     "metadata": {},
     "output_type": "execute_result"
    }
   ],
   "source": [
    "accuracy_score(y_test, y_pred)"
   ]
  },
  {
   "cell_type": "code",
   "execution_count": null,
   "id": "8b928ad6",
   "metadata": {},
   "outputs": [],
   "source": [
    "# 랜덤포레스트"
   ]
  },
  {
   "cell_type": "code",
   "execution_count": 82,
   "id": "db5e6dc2",
   "metadata": {},
   "outputs": [],
   "source": [
    "from sklearn.ensemble import RandomForestClassifier"
   ]
  },
  {
   "cell_type": "code",
   "execution_count": 83,
   "id": "33720bbe",
   "metadata": {},
   "outputs": [],
   "source": [
    "classifier4 = RandomForestClassifier()"
   ]
  },
  {
   "cell_type": "code",
   "execution_count": 84,
   "id": "d102c1f9",
   "metadata": {},
   "outputs": [
    {
     "data": {
      "text/html": [
       "<style>#sk-container-id-4 {color: black;background-color: white;}#sk-container-id-4 pre{padding: 0;}#sk-container-id-4 div.sk-toggleable {background-color: white;}#sk-container-id-4 label.sk-toggleable__label {cursor: pointer;display: block;width: 100%;margin-bottom: 0;padding: 0.3em;box-sizing: border-box;text-align: center;}#sk-container-id-4 label.sk-toggleable__label-arrow:before {content: \"▸\";float: left;margin-right: 0.25em;color: #696969;}#sk-container-id-4 label.sk-toggleable__label-arrow:hover:before {color: black;}#sk-container-id-4 div.sk-estimator:hover label.sk-toggleable__label-arrow:before {color: black;}#sk-container-id-4 div.sk-toggleable__content {max-height: 0;max-width: 0;overflow: hidden;text-align: left;background-color: #f0f8ff;}#sk-container-id-4 div.sk-toggleable__content pre {margin: 0.2em;color: black;border-radius: 0.25em;background-color: #f0f8ff;}#sk-container-id-4 input.sk-toggleable__control:checked~div.sk-toggleable__content {max-height: 200px;max-width: 100%;overflow: auto;}#sk-container-id-4 input.sk-toggleable__control:checked~label.sk-toggleable__label-arrow:before {content: \"▾\";}#sk-container-id-4 div.sk-estimator input.sk-toggleable__control:checked~label.sk-toggleable__label {background-color: #d4ebff;}#sk-container-id-4 div.sk-label input.sk-toggleable__control:checked~label.sk-toggleable__label {background-color: #d4ebff;}#sk-container-id-4 input.sk-hidden--visually {border: 0;clip: rect(1px 1px 1px 1px);clip: rect(1px, 1px, 1px, 1px);height: 1px;margin: -1px;overflow: hidden;padding: 0;position: absolute;width: 1px;}#sk-container-id-4 div.sk-estimator {font-family: monospace;background-color: #f0f8ff;border: 1px dotted black;border-radius: 0.25em;box-sizing: border-box;margin-bottom: 0.5em;}#sk-container-id-4 div.sk-estimator:hover {background-color: #d4ebff;}#sk-container-id-4 div.sk-parallel-item::after {content: \"\";width: 100%;border-bottom: 1px solid gray;flex-grow: 1;}#sk-container-id-4 div.sk-label:hover label.sk-toggleable__label {background-color: #d4ebff;}#sk-container-id-4 div.sk-serial::before {content: \"\";position: absolute;border-left: 1px solid gray;box-sizing: border-box;top: 0;bottom: 0;left: 50%;z-index: 0;}#sk-container-id-4 div.sk-serial {display: flex;flex-direction: column;align-items: center;background-color: white;padding-right: 0.2em;padding-left: 0.2em;position: relative;}#sk-container-id-4 div.sk-item {position: relative;z-index: 1;}#sk-container-id-4 div.sk-parallel {display: flex;align-items: stretch;justify-content: center;background-color: white;position: relative;}#sk-container-id-4 div.sk-item::before, #sk-container-id-4 div.sk-parallel-item::before {content: \"\";position: absolute;border-left: 1px solid gray;box-sizing: border-box;top: 0;bottom: 0;left: 50%;z-index: -1;}#sk-container-id-4 div.sk-parallel-item {display: flex;flex-direction: column;z-index: 1;position: relative;background-color: white;}#sk-container-id-4 div.sk-parallel-item:first-child::after {align-self: flex-end;width: 50%;}#sk-container-id-4 div.sk-parallel-item:last-child::after {align-self: flex-start;width: 50%;}#sk-container-id-4 div.sk-parallel-item:only-child::after {width: 0;}#sk-container-id-4 div.sk-dashed-wrapped {border: 1px dashed gray;margin: 0 0.4em 0.5em 0.4em;box-sizing: border-box;padding-bottom: 0.4em;background-color: white;}#sk-container-id-4 div.sk-label label {font-family: monospace;font-weight: bold;display: inline-block;line-height: 1.2em;}#sk-container-id-4 div.sk-label-container {text-align: center;}#sk-container-id-4 div.sk-container {/* jupyter's `normalize.less` sets `[hidden] { display: none; }` but bootstrap.min.css set `[hidden] { display: none !important; }` so we also need the `!important` here to be able to override the default hidden behavior on the sphinx rendered scikit-learn.org. See: https://github.com/scikit-learn/scikit-learn/issues/21755 */display: inline-block !important;position: relative;}#sk-container-id-4 div.sk-text-repr-fallback {display: none;}</style><div id=\"sk-container-id-4\" class=\"sk-top-container\"><div class=\"sk-text-repr-fallback\"><pre>RandomForestClassifier()</pre><b>In a Jupyter environment, please rerun this cell to show the HTML representation or trust the notebook. <br />On GitHub, the HTML representation is unable to render, please try loading this page with nbviewer.org.</b></div><div class=\"sk-container\" hidden><div class=\"sk-item\"><div class=\"sk-estimator sk-toggleable\"><input class=\"sk-toggleable__control sk-hidden--visually\" id=\"sk-estimator-id-4\" type=\"checkbox\" checked><label for=\"sk-estimator-id-4\" class=\"sk-toggleable__label sk-toggleable__label-arrow\">RandomForestClassifier</label><div class=\"sk-toggleable__content\"><pre>RandomForestClassifier()</pre></div></div></div></div></div>"
      ],
      "text/plain": [
       "RandomForestClassifier()"
      ]
     },
     "execution_count": 84,
     "metadata": {},
     "output_type": "execute_result"
    }
   ],
   "source": [
    "classifier4.fit(X_train, y_train)"
   ]
  },
  {
   "cell_type": "code",
   "execution_count": 85,
   "id": "202c9a5c",
   "metadata": {},
   "outputs": [],
   "source": [
    "y_pred = classifier4.predict(X_test)"
   ]
  },
  {
   "cell_type": "code",
   "execution_count": 86,
   "id": "b5724353",
   "metadata": {},
   "outputs": [
    {
     "data": {
      "text/plain": [
       "array([[507, 515, 191, 238],\n",
       "       [465, 686, 267, 289],\n",
       "       [253, 416, 197, 230],\n",
       "       [301, 402, 180, 254]], dtype=int64)"
      ]
     },
     "execution_count": 86,
     "metadata": {},
     "output_type": "execute_result"
    }
   ],
   "source": [
    "confusion_matrix(y_test, y_pred)"
   ]
  },
  {
   "cell_type": "code",
   "execution_count": 87,
   "id": "46810037",
   "metadata": {},
   "outputs": [
    {
     "data": {
      "text/plain": [
       "0.30495269894268223"
      ]
     },
     "execution_count": 87,
     "metadata": {},
     "output_type": "execute_result"
    }
   ],
   "source": [
    "accuracy_score(y_test, y_pred)"
   ]
  },
  {
   "cell_type": "code",
   "execution_count": null,
   "id": "4f6da167",
   "metadata": {},
   "outputs": [],
   "source": []
  }
 ],
 "metadata": {
  "kernelspec": {
   "display_name": "Python 3 (ipykernel)",
   "language": "python",
   "name": "python3"
  },
  "language_info": {
   "codemirror_mode": {
    "name": "ipython",
    "version": 3
   },
   "file_extension": ".py",
   "mimetype": "text/x-python",
   "name": "python",
   "nbconvert_exporter": "python",
   "pygments_lexer": "ipython3",
   "version": "3.8.13"
  }
 },
 "nbformat": 4,
 "nbformat_minor": 5
}
